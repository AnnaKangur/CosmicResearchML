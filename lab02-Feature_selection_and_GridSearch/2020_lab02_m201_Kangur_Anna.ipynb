{
 "cells": [
  {
   "cell_type": "markdown",
   "metadata": {},
   "source": [
    "# Lab 02. Feature selection and GridSearch\n",
    "\n",
    "\n",
    "In this lab we will tackle two types of tasks: feature selection and hyperparameter tuning.  \n",
    "\n",
    "В этой лабораторной работе мы займемся двумя типами задач: выбором функций и настройкой гиперпараметров.\n",
    "\n",
    "\n",
    "#### Evaluation\n",
    "\n",
    "Each task has its value, **15 points** in total. If you use some open-source code please make sure to include the url.\n",
    "\n",
    "#### How to submit\n",
    "\n",
    "- Name your file according to this convention: `lab02_GroupNo_Surname_Name.ipynb`. If you don't have group number, put nan instead.\n",
    "- Attach it to an email with topic `lab02_GroupNo_Surname_Name.ipynb`\n",
    "- Send it to `cosmic.research.ml@yandex.ru`\n"
   ]
  },
  {
   "cell_type": "code",
   "execution_count": 1,
   "metadata": {},
   "outputs": [],
   "source": [
    "import numpy as np\n",
    "import pandas as pd\n",
    "import matplotlib.pyplot as plt\n",
    "%matplotlib inline"
   ]
  },
  {
   "cell_type": "markdown",
   "metadata": {},
   "source": [
    "## Part 1. Feature Selection [4 points]\n",
    "\n",
    "In this part of the assignemt you will be offered a task to analyze a dataset and figure out which features are the most important. The first means to solve this problem is to use linear model and examine the weights, another option is to train a logic classifier and see which featires it uses to build the splits. And finally you may use PCA and analyze how new PCA-features are configured."
   ]
  },
  {
   "cell_type": "markdown",
   "metadata": {},
   "source": [
    "Firstly, load the data from `feature_selection_sample.txt` and save it into variable `db`."
   ]
  },
  {
   "cell_type": "markdown",
   "metadata": {},
   "source": [
    "В этой части задания вам будет предложено проанализировать набор данных и выяснить, какие функции являются наиболее важными. Первым средством решения этой проблемы является использование линейной модели и проверка весов, другой вариант - обучить логический классификатор и посмотреть, какие функции он использует для построения разбиений. И, наконец, вы можете использовать PCA и проанализировать, как настроены новые функции PCA.\n",
    "\n",
    "Сначала загрузите данные из feature_selection_sample.txt и сохраните их в переменной db."
   ]
  },
  {
   "cell_type": "code",
   "execution_count": 2,
   "metadata": {},
   "outputs": [],
   "source": [
    "input_filename = 'feature_selection_sample.txt'\n",
    "db = pd.read_csv(input_filename, sep='\\t', header=None)"
   ]
  },
  {
   "cell_type": "markdown",
   "metadata": {},
   "source": [
    "Feature columns are `[0-9]` and the target is `[10]`. Split the table into object and target arrays:"
   ]
  },
  {
   "cell_type": "code",
   "execution_count": 3,
   "metadata": {},
   "outputs": [],
   "source": [
    "X = db.drop(columns=10)\n",
    "Y = db[10]"
   ]
  },
  {
   "cell_type": "markdown",
   "metadata": {},
   "source": [
    "Now split the data into train and test"
   ]
  },
  {
   "cell_type": "code",
   "execution_count": 4,
   "metadata": {},
   "outputs": [],
   "source": [
    "from sklearn.model_selection import train_test_split"
   ]
  },
  {
   "cell_type": "code",
   "execution_count": 5,
   "metadata": {},
   "outputs": [],
   "source": [
    "RANDOM_SEED = 42"
   ]
  },
  {
   "cell_type": "code",
   "execution_count": 6,
   "metadata": {},
   "outputs": [],
   "source": [
    "X_train, X_test, Y_train, Y_test = train_test_split(X, Y, test_size=0.1, random_state=RANDOM_SEED)"
   ]
  },
  {
   "cell_type": "markdown",
   "metadata": {},
   "source": [
    "**Task 1.1 [1 point] Linear models**\n",
    "\n",
    "Import `LinearRegression` and define a problem with default parameters."
   ]
  },
  {
   "cell_type": "code",
   "execution_count": 7,
   "metadata": {},
   "outputs": [],
   "source": [
    "from sklearn.linear_model import LinearRegression"
   ]
  },
  {
   "cell_type": "code",
   "execution_count": 8,
   "metadata": {},
   "outputs": [],
   "source": [
    "model_lr = LinearRegression()"
   ]
  },
  {
   "cell_type": "markdown",
   "metadata": {},
   "source": [
    "Train the model and check the quality both on train set and test set. Since we are solving a regression problem, we will use `mean_squared_error` as a quality metric.\n",
    "\n",
    "Обучите модель и проверьте качество как на наборе, так и на тестовом наборе. Поскольку мы решаем проблему регрессии, мы будем использовать mean_squared_error в качестве показателя качества."
   ]
  },
  {
   "cell_type": "code",
   "execution_count": 9,
   "metadata": {},
   "outputs": [],
   "source": [
    "from sklearn.metrics import mean_squared_error #среднеквадратичная ошибка"
   ]
  },
  {
   "cell_type": "code",
   "execution_count": 10,
   "metadata": {},
   "outputs": [
    {
     "name": "stdout",
     "output_type": "stream",
     "text": [
      "Linear Regression scores: train: 5.814, test: 6.916\n"
     ]
    }
   ],
   "source": [
    "model_lr.fit(X_train,Y_train)           # обучение выборке X, Y\n",
    "\n",
    "train_pred  = model_lr.predict(X_train) # предсказанный\n",
    "test_pred   = model_lr.predict(X_test)\n",
    "\n",
    "train_score = mean_squared_error(train_pred, Y_train)  \n",
    "test_score  = mean_squared_error(test_pred,  Y_test)   \n",
    "\n",
    "print(\"Linear Regression scores: train: {:.3f}, test: {:3.3f}\".format(train_score, test_score))\n",
    "original_test_score = test_score "
   ]
  },
  {
   "cell_type": "markdown",
   "metadata": {},
   "source": [
    "Extract feature-vector from the trained model (see [this page](https://scikit-learn.org/stable/modules/generated/sklearn.linear_model.LinearRegression.html#sklearn.linear_model.LinearRegression)) and bar-plot them.\n",
    "\n",
    "Извлеките вектор признаков из обученной модели (см. Эту страницу) и постройте их."
   ]
  },
  {
   "cell_type": "markdown",
   "metadata": {},
   "source": [
    "Save 4 most important feature indexes to a list:"
   ]
  },
  {
   "cell_type": "code",
   "execution_count": 11,
   "metadata": {},
   "outputs": [
    {
     "data": {
      "image/png": "[encoded data removed]",
      "text/plain": [
       "<Figure size 864x288 with 1 Axes>"
      ]
     },
     "metadata": {
      "needs_background": "light"
     },
     "output_type": "display_data"
    }
   ],
   "source": [
    "model_coefs = model_lr.coef_\n",
    "ncoef = model_coefs.shape[0]\n",
    "default_x = np.arange(ncoef)\n",
    "\n",
    "plt.figure(figsize=(12,4))\n",
    "plt.bar(default_x, model_coefs)\n",
    "plt.xticks(default_x)\n",
    "plt.xlabel('Coefficient Index')    \n",
    "plt.ylabel('Coefficient Magnitude')\n",
    "plt.legend('coefs', loc='upper right')\n",
    "plt.grid()\n",
    "plt.show()"
   ]
  },
  {
   "cell_type": "markdown",
   "metadata": {},
   "source": [
    "According to this plot, what are the most important features?\n",
    "\n",
    "Согласно этому сюжету, каковы наиболее важные особенности?"
   ]
  },
  {
   "cell_type": "markdown",
   "metadata": {},
   "source": [
    "**Your answer here**: 2, 6, 7, 9 особенности наиболее важные"
   ]
  },
  {
   "cell_type": "code",
   "execution_count": 12,
   "metadata": {},
   "outputs": [],
   "source": [
    "important_feature_idx  = [2, 6, 7, 9]"
   ]
  },
  {
   "cell_type": "markdown",
   "metadata": {},
   "source": [
    "Use these feature indexes to construct new train and test sets with smaller amount of features:\n",
    "\n",
    "Используйте эти индексы функций для создания новых наборов поездов и тестов с меньшим количеством функций:"
   ]
  },
  {
   "cell_type": "code",
   "execution_count": 13,
   "metadata": {},
   "outputs": [],
   "source": [
    "X_train_smaller = X_train[important_feature_idx]\n",
    "X_test_smaller  = X_test[important_feature_idx]"
   ]
  },
  {
   "cell_type": "markdown",
   "metadata": {},
   "source": [
    "Define a new `LinearRegression` model, train and test it on new sets: \n",
    "\n",
    "Определите новую модель LinearRegression, обучите и протестируйте ее на новых наборах:"
   ]
  },
  {
   "cell_type": "code",
   "execution_count": 14,
   "metadata": {},
   "outputs": [
    {
     "name": "stdout",
     "output_type": "stream",
     "text": [
      "Smaller LR train score: 22.244, test score: 26.171\n"
     ]
    }
   ],
   "source": [
    "smaller_model = LinearRegression()\n",
    "smaller_model.fit(X_train_smaller, Y_train)\n",
    "train_pred    =  smaller_model.predict(X_train_smaller) \n",
    "test_pred     =  smaller_model.predict(X_test_smaller) \n",
    "train_score   =  mean_squared_error(train_pred, Y_train)\n",
    "test_score    =  mean_squared_error(test_pred, Y_test)\n",
    "print(\"{} train score: {:.3f}, test score: {:3.3f}\".format('Smaller LR', train_score, test_score))\n",
    "smaller_test_score = test_score"
   ]
  },
  {
   "cell_type": "markdown",
   "metadata": {},
   "source": [
    "Compare scores of `model_lr` (variable `original_score`) and `smaller_model` (variable `smaller_test_score`). We reduced number of feature but why scores changes so drastically?\n",
    "\n",
    "Сравните оценки model_lr (переменная original_score) и small_model (переменная small_test_score). Мы сократили количество функций, но почему так резко меняются оценки?"
   ]
  },
  {
   "cell_type": "code",
   "execution_count": 15,
   "metadata": {},
   "outputs": [
    {
     "name": "stdout",
     "output_type": "stream",
     "text": [
      "19.254561657742606\n"
     ]
    }
   ],
   "source": [
    "print(np.abs(original_test_score - smaller_test_score))"
   ]
  },
  {
   "cell_type": "markdown",
   "metadata": {},
   "source": [
    "**Your answer here**: Ошибка стала намного больше. Не верно выбраны наиболее важные особенности."
   ]
  },
  {
   "cell_type": "markdown",
   "metadata": {},
   "source": [
    "**Task 1.2 [1 point] Linear models on scaled data**\n",
    "\n",
    "It is time to fix this failure and scale the data - we should have done it earlier, since we decided to use linear models. Import the scaler and apply it to all of the data (`X`)\n",
    "\n",
    "Пора исправить этот сбой и масштабировать данные - мы должны были сделать это раньше, так как решили использовать линейные модели. Импортируйте средство масштабирования и примените его ко всем данным (X)"
   ]
  },
  {
   "cell_type": "code",
   "execution_count": 16,
   "metadata": {},
   "outputs": [],
   "source": [
    "from sklearn.preprocessing import StandardScaler"
   ]
  },
  {
   "cell_type": "code",
   "execution_count": 17,
   "metadata": {},
   "outputs": [],
   "source": [
    "st_scaler = StandardScaler()\n",
    "X_scaled  = pd.DataFrame(st_scaler.fit_transform(X), columns=None)"
   ]
  },
  {
   "cell_type": "markdown",
   "metadata": {},
   "source": [
    "Now we repeat all the steps:\n",
    "- split the data\n",
    "- train a model on all features\n",
    "- plot coefficients\n",
    "- choose 4 most-important features\n",
    "- train a model on a feature-subset\n",
    "- compare the scores\n",
    "- profit!"
   ]
  },
  {
   "cell_type": "code",
   "execution_count": 18,
   "metadata": {},
   "outputs": [],
   "source": [
    "X_sc_train, X_sc_test, Y_sc_train, Y_sc_test = train_test_split(X_scaled, Y, test_size=0.1, random_state=RANDOM_SEED)"
   ]
  },
  {
   "cell_type": "code",
   "execution_count": 19,
   "metadata": {},
   "outputs": [
    {
     "name": "stdout",
     "output_type": "stream",
     "text": [
      "Linear Regression on Scaled Data scores: train: 5.814, test: 6.916\n"
     ]
    }
   ],
   "source": [
    "model_lr_sc = LinearRegression()\n",
    "model_lr_sc.fit(X_sc_train, Y_train)\n",
    "train_pred  = model_lr_sc.predict(X_sc_train)\n",
    "test_pred   = model_lr_sc.predict(X_sc_test)\n",
    "train_score = mean_squared_error(train_pred, Y_train)\n",
    "test_score  = mean_squared_error(test_pred, Y_test)\n",
    "print(\"Linear Regression on Scaled Data scores: train: {:.3f}, test: {:3.3f}\".format(train_score, test_score))"
   ]
  },
  {
   "cell_type": "code",
   "execution_count": 20,
   "metadata": {},
   "outputs": [
    {
     "data": {
      "image/png": "[encoded data removed]",
      "text/plain": [
       "<Figure size 864x288 with 1 Axes>"
      ]
     },
     "metadata": {
      "needs_background": "light"
     },
     "output_type": "display_data"
    }
   ],
   "source": [
    "model_coefs = model_lr_sc.coef_\n",
    "\n",
    "ncoef = model_coefs.shape[0]\n",
    "default_x = np.arange(ncoef)\n",
    "\n",
    "plt.figure(figsize=(12,4))\n",
    "plt.bar(default_x, model_coefs,label='model_name', width=0.5, color = 'red')\n",
    "plt.xticks(default_x)\n",
    "plt.xlabel('Coefficient Index')\n",
    "plt.ylabel('Coefficient Magnitude')\n",
    "plt.legend('coefs', loc='upper right')\n",
    "plt.grid()\n",
    "plt.show()"
   ]
  },
  {
   "cell_type": "markdown",
   "metadata": {},
   "source": [
    "What are the most important features now? Let's do the sanity check and train on this subset:"
   ]
  },
  {
   "cell_type": "code",
   "execution_count": 21,
   "metadata": {},
   "outputs": [],
   "source": [
    "important_feature_idx = [0,1,3,4] "
   ]
  },
  {
   "cell_type": "code",
   "execution_count": 22,
   "metadata": {},
   "outputs": [],
   "source": [
    "X_sc_train_smaller = X_sc_train[important_feature_idx]\n",
    "X_sc_test_smaller = X_sc_test[important_feature_idx]"
   ]
  },
  {
   "cell_type": "code",
   "execution_count": 23,
   "metadata": {},
   "outputs": [
    {
     "name": "stdout",
     "output_type": "stream",
     "text": [
      "Linear Regression on Scaled Data scores: train: 5.841, test: 6.856\n"
     ]
    }
   ],
   "source": [
    "model_lr_sc_smaller = LinearRegression()\n",
    "model_lr_sc_smaller.fit(X_sc_train_smaller, Y_train)\n",
    "train_pred  = model_lr_sc_smaller.predict(X_sc_train_smaller)\n",
    "test_pred   = model_lr_sc_smaller.predict(X_sc_test_smaller)\n",
    "train_score = mean_squared_error(train_pred, Y_train)\n",
    "test_score  = mean_squared_error(test_pred, Y_test)\n",
    "print(\"Linear Regression on Scaled Data scores: train: {:.3f}, test: {:3.3f}\".format(train_score, test_score))"
   ]
  },
  {
   "cell_type": "markdown",
   "metadata": {},
   "source": [
    "Has **MSE** changed? To what extent?"
   ]
  },
  {
   "cell_type": "markdown",
   "metadata": {},
   "source": [
    "**Your answer here**: Очень слабо изменилось"
   ]
  },
  {
   "cell_type": "markdown",
   "metadata": {},
   "source": [
    "**Task 2 [2 points] Decision Tree**\n",
    "\n",
    "As you probably now, there are models that are not influence by the fact that data is not normalized: for example, Decision Tree or Random Forest.\n",
    "\n",
    "Since you already have all the sets prepared: `X_train` and `X_sc_train`, train a RF model and prove that scaling does not affect feature importances.\n",
    "\n",
    "Then compare durations of training loops for a set with 10 features and 4 features."
   ]
  },
  {
   "cell_type": "code",
   "execution_count": 24,
   "metadata": {},
   "outputs": [],
   "source": [
    "from sklearn.ensemble import RandomForestRegressor"
   ]
  },
  {
   "cell_type": "code",
   "execution_count": 25,
   "metadata": {},
   "outputs": [],
   "source": [
    "rf        = RandomForestRegressor()\n",
    "rf_scaled = RandomForestRegressor()"
   ]
  },
  {
   "cell_type": "code",
   "execution_count": 26,
   "metadata": {},
   "outputs": [
    {
     "name": "stdout",
     "output_type": "stream",
     "text": [
      "RF test score 0.882\n",
      "RF scaled test score 0.889\n"
     ]
    }
   ],
   "source": [
    "rf.fit(X_train, Y_train)\n",
    "rf_scaled.fit(X_sc_train, Y_sc_train)\n",
    "\n",
    "rf_test_score = rf.score(X_test, Y_test)                                    \n",
    "rf_scaled_test_score =  rf_scaled.score(X_sc_test, Y_sc_test)            \n",
    "\n",
    "print(\"RF test score {:.3f}\".format(rf_test_score))\n",
    "print(\"RF scaled test score {:.3f}\".format(rf_scaled_test_score))"
   ]
  },
  {
   "cell_type": "markdown",
   "metadata": {},
   "source": [
    "Look up an attribute for feature importances [here](https://scikit-learn.org/stable/modules/generated/sklearn.ensemble.RandomForestRegressor.html?highlight=random%20forest#sklearn.ensemble.RandomForestRegressor)"
   ]
  },
  {
   "cell_type": "markdown",
   "metadata": {},
   "source": [
    "https://dyakonov.org/2016/11/14/%D1%81%D0%BB%D1%83%D1%87%D0%B0%D0%B9%D0%BD%D1%8B%D0%B9-%D0%BB%D0%B5%D1%81-random-forest/"
   ]
  },
  {
   "cell_type": "code",
   "execution_count": 27,
   "metadata": {},
   "outputs": [
    {
     "data": {
      "image/png": "[encoded data removed]",
      "text/plain": [
       "<Figure size 864x288 with 1 Axes>"
      ]
     },
     "metadata": {
      "needs_background": "light"
     },
     "output_type": "display_data"
    }
   ],
   "source": [
    "rf_model_coefs = rf.feature_importances_                   \n",
    "rf_scaled__model_coefs = rf_scaled.feature_importances_ \n",
    "\n",
    "ncoef = rf_model_coefs.shape[0]\n",
    "default_x = np.arange(ncoef)\n",
    "\n",
    "plt.figure(figsize=(12,4))\n",
    "plt.bar(default_x - 0.1, rf_model_coefs, label=\"RF\", width=0.1, color = 'red')\n",
    "plt.bar(default_x + 0.1, rf_model_coefs, label=\"RF Scaled\", width=0.1, color = 'blue')\n",
    "plt.xticks(default_x)\n",
    "plt.xlabel('Coefficient Index')\n",
    "plt.ylabel('Coefficient Magnitude')\n",
    "plt.legend(loc='upper right')\n",
    "plt.grid()\n",
    "plt.show()\n"
   ]
  },
  {
   "cell_type": "markdown",
   "metadata": {},
   "source": [
    "**Your Comment on the plot:** одинаковые\n"
   ]
  },
  {
   "cell_type": "markdown",
   "metadata": {},
   "source": [
    "Now examine how reduction of . You may use `time` module."
   ]
  },
  {
   "cell_type": "markdown",
   "metadata": {},
   "source": [
    "Here is an example:"
   ]
  },
  {
   "cell_type": "code",
   "execution_count": 28,
   "metadata": {},
   "outputs": [
    {
     "name": "stdout",
     "output_type": "stream",
     "text": [
      "1000 x 1000 matrix determinant took 0.189 seconds\n"
     ]
    },
    {
     "name": "stderr",
     "output_type": "stream",
     "text": [
      "c:\\users\\пользователь\\appdata\\local\\programs\\python\\python38-32\\lib\\site-packages\\numpy\\linalg\\linalg.py:2159: RuntimeWarning: overflow encountered in det\n",
      "  r = _umath_linalg.det(a, signature=signature)\n"
     ]
    }
   ],
   "source": [
    "from time import time\n",
    "\n",
    "n = 1000\n",
    "a = np.diag(np.ones(n)) + np.random.rand(n, n)\n",
    "\n",
    "start = time()\n",
    "det = np.linalg.det(a)\n",
    "end = time()\n",
    "print(\"{} x {} matrix determinant took {:.3f} seconds\".format(n, n, end - start))"
   ]
  },
  {
   "cell_type": "code",
   "execution_count": 29,
   "metadata": {},
   "outputs": [],
   "source": [
    "rf1 = RandomForestRegressor()\n",
    "rf2 = RandomForestRegressor()"
   ]
  },
  {
   "cell_type": "code",
   "execution_count": 30,
   "metadata": {
    "scrolled": true
   },
   "outputs": [
    {
     "name": "stdout",
     "output_type": "stream",
     "text": [
      "Масштабированно: 0.6160492897033691\n",
      "Масштабированно и убраны \"неважные\" столбцы: 0.4250483512878418\n"
     ]
    }
   ],
   "source": [
    "start = time()\n",
    "rf1.fit(X_sc_train, Y_sc_train)\n",
    "end = time()\n",
    "print('Масштабированно:', end - start)\n",
    "\n",
    "start = time()\n",
    "rf2.fit(X_sc_train_smaller, Y_sc_train)\n",
    "end = time()\n",
    "print('Масштабированно и убраны \"неважные\" столбцы:', end - start)"
   ]
  },
  {
   "cell_type": "markdown",
   "metadata": {},
   "source": [
    "**Your Comment on time consuption**: времени ушло почти в 2 раза меньше"
   ]
  },
  {
   "cell_type": "markdown",
   "metadata": {},
   "source": [
    "## Part 2. GridSearch: hyperparameter tuning  [11 points]"
   ]
  },
  {
   "cell_type": "markdown",
   "metadata": {},
   "source": [
    "In this part we will try to solve a multiclass classification task on Richter's dataset ([source](https://www.kaggle.com/mullerismail/richters-predictor-modeling-earthquake-damage)). The aim is to predict damage rate (label from 1 to 3).\n",
    "\n",
    "We will experiment with following models:\n",
    "- kNN\n",
    "- LinearRegression\n",
    "- DecisionTree\n",
    "- RandomForest\n",
    "\n",
    "В этой части мы попытаемся решить задачу мультиклассовой классификации на наборе данных Рихтера. Цель состоит в том, чтобы предсказать степень повреждения (метка от 1 до 3). \n",
    "\n",
    "Мы будем экспериментировать со следующими моделями:\n",
    "- kNN\n",
    "- LinearRegression\n",
    "- DecisionTree\n",
    "- RandomForest\n"
   ]
  },
  {
   "cell_type": "code",
   "execution_count": 31,
   "metadata": {},
   "outputs": [],
   "source": [
    "import numpy as np\n",
    "import pandas as pd\n",
    "import matplotlib.pyplot as plt\n",
    "%matplotlib inline"
   ]
  },
  {
   "cell_type": "markdown",
   "metadata": {},
   "source": [
    "Read the data, transform the table into arrays `X` and `y`, target column is called *damage_grade*. Note that objects are described with both numerical and categorical features. In the first part of this assignment we will use numerical features only (apply `_get_numeric_data()` to `pandas` dataframe).\n",
    "\n",
    "Split the data into `train`, `test` and `val` with ratio 4-to-2-to-1. Since we are going to use metric classifiers, don't forget to preprocess the data."
   ]
  },
  {
   "cell_type": "code",
   "execution_count": 32,
   "metadata": {},
   "outputs": [],
   "source": [
    "RANDOM_SEED = 42"
   ]
  },
  {
   "cell_type": "code",
   "execution_count": 33,
   "metadata": {},
   "outputs": [],
   "source": [
    "from sklearn.model_selection import train_test_split\n",
    "from sklearn.preprocessing import StandardScaler\n",
    "from sklearn.preprocessing import MinMaxScaler"
   ]
  },
  {
   "cell_type": "code",
   "execution_count": 34,
   "metadata": {},
   "outputs": [],
   "source": [
    "data    = pd.read_csv(\"richters_sample.csv\")\n",
    "objects = data.drop(columns=\"damage_grade\")\n",
    "labels  = data[\"damage_grade\"]"
   ]
  },
  {
   "cell_type": "code",
   "execution_count": 35,
   "metadata": {},
   "outputs": [],
   "source": [
    "X = objects._get_numeric_data()\n",
    "y = labels\n",
    "assert X.shape == (35000, 31) and  y.shape == (35000,)"
   ]
  },
  {
   "cell_type": "code",
   "execution_count": 36,
   "metadata": {},
   "outputs": [],
   "source": [
    "scaler = StandardScaler()\n",
    "X = pd.DataFrame(scaler.fit_transform(X), columns=None)"
   ]
  },
  {
   "cell_type": "code",
   "execution_count": 37,
   "metadata": {},
   "outputs": [],
   "source": [
    "X_train, X_not_train, y_train, y_not_train = train_test_split(X, y, test_size= 3/7, \n",
    "                                                    shuffle=True, stratify = None,\n",
    "                                                    random_state = RANDOM_SEED)\n",
    "\n",
    "X_test, X_val, y_test, y_val = train_test_split(X_not_train, y_not_train, test_size= 1/3,\n",
    "                                                    shuffle=True, stratify= None,\n",
    "                                                    random_state = RANDOM_SEED)\n",
    "\n",
    "assert X_train.shape[0] == 20000 and X_test.shape[0] == 10000 and X_val.shape[0] == 5000"
   ]
  },
  {
   "cell_type": "markdown",
   "metadata": {},
   "source": [
    "Import the models:"
   ]
  },
  {
   "cell_type": "code",
   "execution_count": 38,
   "metadata": {},
   "outputs": [],
   "source": [
    "from sklearn.neighbors    import KNeighborsClassifier\n",
    "from sklearn.linear_model import LogisticRegression\n",
    "from sklearn.tree         import DecisionTreeClassifier\n",
    "from sklearn.ensemble     import RandomForestClassifier"
   ]
  },
  {
   "cell_type": "markdown",
   "metadata": {},
   "source": [
    "Import classification quality metrics:"
   ]
  },
  {
   "cell_type": "code",
   "execution_count": 39,
   "metadata": {},
   "outputs": [],
   "source": [
    "from sklearn.metrics      import accuracy_score, precision_score, recall_score"
   ]
  },
  {
   "cell_type": "markdown",
   "metadata": {},
   "source": [
    "**Task 2.1 [2 points]. Default-parameter models**\n",
    "\n",
    "Let's take 4 classifiers (1 of a kind) with **default** parameters and check how well they can perform."
   ]
  },
  {
   "cell_type": "code",
   "execution_count": 40,
   "metadata": {},
   "outputs": [],
   "source": [
    "clf1 = KNeighborsClassifier()\n",
    "clf2 = LogisticRegression()\n",
    "clf3 = DecisionTreeClassifier()\n",
    "clf4 = RandomForestClassifier()\n",
    "\n",
    "default_classifiers = [clf1, clf2, clf3, clf4]"
   ]
  },
  {
   "cell_type": "markdown",
   "metadata": {},
   "source": [
    "Fit each classifier on `X_train, y_train`, predict on `X_test`"
   ]
  },
  {
   "cell_type": "code",
   "execution_count": 41,
   "metadata": {},
   "outputs": [],
   "source": [
    "clf_predictions = []\n",
    "for clf in default_classifiers:\n",
    "    clf.fit(X_train, y_train)\n",
    "    pred = clf.predict(X_test)\n",
    "    clf_predictions.append(pred)"
   ]
  },
  {
   "cell_type": "markdown",
   "metadata": {},
   "source": [
    "Apply 5 metrics to each prediction:"
   ]
  },
  {
   "cell_type": "code",
   "execution_count": 42,
   "metadata": {},
   "outputs": [],
   "source": [
    "accuracies       = [accuracy_score(y_test, pred) for pred in clf_predictions] #Классификационная оценка точности\n",
    "micro_precisions = [precision_score(y_test, pred, average=\"micro\") for pred in clf_predictions] #точность, zero_division=1\n",
    "micro_recalls    = [recall_score(y_test,    pred, average=\"micro\") for pred in clf_predictions]\n",
    "macro_precisions = [precision_score(y_test, pred, average=\"macro\") for pred in clf_predictions]\n",
    "macro_recalls    = [recall_score(y_test,   pred, average=\"macro\") for pred in clf_predictions]\n",
    "\n",
    "scores = [accuracies, micro_precisions, micro_recalls, macro_precisions, macro_recalls]\n",
    "names  = [\"Accuracies\", \"Micro-Precisions\", \"Micro-Recalls\",  \"Macro-Precisions\", \"Macro-Recalls\"]"
   ]
  },
  {
   "cell_type": "code",
   "execution_count": 43,
   "metadata": {},
   "outputs": [
    {
     "data": {
      "image/png": "[encoded data removed]",
      "text/plain": [
       "<Figure size 1440x360 with 5 Axes>"
      ]
     },
     "metadata": {
      "needs_background": "light"
     },
     "output_type": "display_data"
    }
   ],
   "source": [
    "fig, axs = plt.subplots(nrows=1, ncols=5, figsize=(20, 5), sharey=True)\n",
    "plt.setp(axs, ylim=(0, 1))\n",
    "\n",
    "xlabels = [\"knn\", \"linear\", \"dt\", \"rf\"]\n",
    "colors = [\"yellow\", \"red\", \"blue\", \"green\"]\n",
    "xticks = 1 + np.arange(len(xlabels))\n",
    "\n",
    "for ax, score, name in zip(axs, scores, names):\n",
    "    ax.bar(xticks, score, color=colors)\n",
    "    for i, v in enumerate(score):\n",
    "        ax.text(xticks[i] - 0.25, v + 0.01, \"{:.2f}\".format(v))\n",
    "    ax.set_xticks(xticks)\n",
    "    ax.set_xticklabels(xlabels)\n",
    "    ax.set_title(name)\n",
    "    ax.grid()\n",
    "\n",
    "plt.show()"
   ]
  },
  {
   "cell_type": "markdown",
   "metadata": {},
   "source": [
    "Choose the model with the biggest gap between micro-precision and macro-precision and plot its confusion matrix.\n",
    "For confusion matrix do `from sklearn.metrics import confusion_matrix` (don't forget to put valid labels on plots)."
   ]
  },
  {
   "cell_type": "code",
   "execution_count": 44,
   "metadata": {},
   "outputs": [],
   "source": [
    "from sklearn.metrics import confusion_matrix\n",
    "import seaborn as sns"
   ]
  },
  {
   "cell_type": "code",
   "execution_count": 45,
   "metadata": {},
   "outputs": [],
   "source": [
    "weakest_model_index = 0    #оно меняется \n",
    "dt_preds = clf_predictions[weakest_model_index]\n",
    "conf_matrix = confusion_matrix(dt_preds,y_test) "
   ]
  },
  {
   "cell_type": "code",
   "execution_count": 46,
   "metadata": {},
   "outputs": [
    {
     "data": {
      "image/png": "[encoded data removed]",
      "text/plain": [
       "<Figure size 432x288 with 2 Axes>"
      ]
     },
     "metadata": {
      "needs_background": "light"
     },
     "output_type": "display_data"
    }
   ],
   "source": [
    "plot_labels = sorted(labels.unique())\n",
    "\n",
    "sns.heatmap(conf_matrix, \n",
    "            cmap=\"Blues\",\n",
    "            xticklabels=True,\n",
    "            yticklabels=True,\n",
    "            linewidths=0.01, \n",
    "            linecolor=\"black\", \n",
    "            annot = True, \n",
    "            fmt='2g')\n",
    "\n",
    "plt.ylabel(\"GT\")\n",
    "plt.xlabel(\"Predictions\")\n",
    "plt.show()"
   ]
  },
  {
   "cell_type": "markdown",
   "metadata": {},
   "source": [
    "Going by confusion matrix, which class is the hardest to predict? How does it affect macro/micro-precision?\n",
    "\n",
    "Исходя из матрицы путаницы, какой класс труднее всего предсказать? Как это влияет на макро / микроточность?\n",
    "\n",
    "**Your answer:** "
   ]
  },
  {
   "cell_type": "code",
   "execution_count": 183,
   "metadata": {},
   "outputs": [
    {
     "name": "stdout",
     "output_type": "stream",
     "text": [
      "Ошибки: \n",
      "300\n",
      "2183\n",
      "714\n"
     ]
    }
   ],
   "source": [
    "print('Ошибки: ', 268 + 32, 582 + 1601,13 + 701, sep = '\\n')"
   ]
  },
  {
   "cell_type": "markdown",
   "metadata": {},
   "source": [
    "Таким образом ошибок больше всего в 1 классе, но и предсказаний там больше всего"
   ]
  },
  {
   "cell_type": "code",
   "execution_count": 185,
   "metadata": {},
   "outputs": [
    {
     "name": "stdout",
     "output_type": "stream",
     "text": [
      "В процентах:\n",
      "0.4366812227074236\n",
      "0.3154633232454244\n",
      "0.3007582139848357\n"
     ]
    }
   ],
   "source": [
    "print('В процентах:', 300/(300+387), 2189/(2183+4756), 714/(714+1660), sep = '\\n')"
   ]
  },
  {
   "cell_type": "markdown",
   "metadata": {},
   "source": [
    "В процентах больше ошибок в 0 классе"
   ]
  },
  {
   "cell_type": "markdown",
   "metadata": {},
   "source": [
    "**Task 2.2 [3 points]. 1-D Grid Search**\n",
    "\n",
    "No wonder that default models have scores far from perfect. Let's tweak those hyperparameters with GridSearch: we will iteratively look through all combinations of parameters in the grid and choose the best. At each iteraction use cross validation score with number of folds `k=5`.\n",
    "\n",
    "Неудивительно, что оценки моделей по умолчанию далеки от идеала. Давайте настроим эти гиперпараметры с помощью GridSearch:итеративно просмотрим все комбинации параметров в сетке и выберем лучшую. На каждой итерации используйте оценку перекрестной проверки с количеством складок k = 5\n",
    "\n",
    "\n",
    "Firstly, build the grid for kNN. It will be a 1-D grid with the only parameter `n_neighbors`. Look through all values from 1 to 50.\n",
    "\n",
    "Сначала постройте сетку для кНН. Это будет одномерная сетка с единственным параметром n_neighbors. Просмотрите все значения от 1 до 50.\n",
    "\n",
    "*Hint*: \n",
    " - `np.arange` - возвращает одномерный массив с равномерно разнесенными значениями внутри заданного интервала\n",
    " - `np.linspace` - возвращает одномерный массив из указанного количества элементов, значения которых равномерно распределенны внутри заданного интервала\n",
    " - `np.logspace` - возвращает одномерный массив из указанного количества элементов, значения которых равномерно распределенны по логарифмической шкале внутри заданного интервала\n",
    "are very useful for grid constructions.\n",
    "\n",
    "**Attention** this part of assignment may need a lot of computational powers (as you probably remember, training of knn is quite expensive). \n",
    "\n",
    "эта часть задания может потребовать больших вычислительных мощностей (как вы, вероятно, помните, обучение knn довольно дорогое).\n",
    "\n",
    "To save some resources while doing grid search for knn you may use the trick from Part1: do feature-selection with DTree/RandomForest and select top-5 or top-10 features.\n",
    "\n",
    "Чтобы сэкономить ресурсы при выполнении поиска по сетке для knn, вы можете использовать трюк из Части 1: выполнить выбор функций с помощью DTree / RandomForest и выбрать топ-5 или топ-10 функций.\n"
   ]
  },
  {
   "cell_type": "code",
   "execution_count": 47,
   "metadata": {},
   "outputs": [],
   "source": [
    "from sklearn.model_selection import cross_val_score\n",
    "from sklearn.model_selection import GridSearchCV # находит наилучшие параметры, путем обычного перебора"
   ]
  },
  {
   "cell_type": "code",
   "execution_count": 48,
   "metadata": {},
   "outputs": [],
   "source": [
    "knn_clf = KNeighborsClassifier()              # k-ближайших соседей\n",
    "knn_grid = {\"n_neighbors\": np.arange(1,51)}   #,51"
   ]
  },
  {
   "cell_type": "code",
   "execution_count": 49,
   "metadata": {},
   "outputs": [
    {
     "data": {
      "text/plain": [
       "RandomForestClassifier()"
      ]
     },
     "execution_count": 49,
     "metadata": {},
     "output_type": "execute_result"
    }
   ],
   "source": [
    "rfc = RandomForestClassifier() #LinearRegression()\n",
    "rfc.fit(X_train, y_train)"
   ]
  },
  {
   "cell_type": "code",
   "execution_count": 50,
   "metadata": {},
   "outputs": [
    {
     "data": {
      "image/png": "[encoded data removed]",
      "text/plain": [
       "<Figure size 864x288 with 1 Axes>"
      ]
     },
     "metadata": {
      "needs_background": "light"
     },
     "output_type": "display_data"
    }
   ],
   "source": [
    "rfc_coefs = rfc.feature_importances_  # возвращает вектор \"важностей\" признаков\n"
   ]
  },
  {
   "cell_type": "code",
   "execution_count": 51,
   "metadata": {},
   "outputs": [],
   "source": [
    "index = [0, 1, 2, 3, 5, 6, 7]"
   ]
  },
  {
   "cell_type": "code",
   "execution_count": 52,
   "metadata": {
    "scrolled": true
   },
   "outputs": [],
   "source": [
    "X_train_smaller = X_train[index] \n",
    "X_test_smaller  = X_test[index]\n",
    "X_val_smaller   = X_val[index]"
   ]
  },
  {
   "cell_type": "code",
   "execution_count": 54,
   "metadata": {},
   "outputs": [
    {
     "name": "stdout",
     "output_type": "stream",
     "text": [
      "Наилучший параметр:  38\n"
     ]
    }
   ],
   "source": [
    "knn_grid_searcher = GridSearchCV(knn_clf, param_grid=knn_grid, cv=5, return_train_score=True, n_jobs=-1) \n",
    "knn_grid_searcher.fit(X_train_smaller, y_train)\n",
    "print('Наилучший параметр: ', knn_grid_searcher.best_params_[\"n_neighbors\"])"
   ]
  },
  {
   "cell_type": "code",
   "execution_count": 58,
   "metadata": {},
   "outputs": [
    {
     "data": {
      "text/plain": [
       "KNeighborsClassifier(n_neighbors=38)"
      ]
     },
     "execution_count": 58,
     "metadata": {},
     "output_type": "execute_result"
    }
   ],
   "source": [
    "knn_clf = KNeighborsClassifier(n_neighbors = 38)  \n",
    "knn_clf.fit(X_train_smaller, y_train)"
   ]
  },
  {
   "cell_type": "code",
   "execution_count": 59,
   "metadata": {},
   "outputs": [
    {
     "name": "stdout",
     "output_type": "stream",
     "text": [
      "Среднеквадратичная ошибка 0.4278\n"
     ]
    }
   ],
   "source": [
    "pred = knn_clf.predict(X_test_smaller)\n",
    "mse  = mean_squared_error(pred, y_test)\n",
    "print('Среднеквадратичная ошибка', mse)"
   ]
  },
  {
   "cell_type": "code",
   "execution_count": 60,
   "metadata": {},
   "outputs": [
    {
     "name": "stdout",
     "output_type": "stream",
     "text": [
      "Cредний балл перекрестной проверки:  0.5893499999999999\n"
     ]
    }
   ],
   "source": [
    "print('Cредний балл перекрестной проверки: ', knn_grid_searcher.best_score_)"
   ]
  },
  {
   "cell_type": "markdown",
   "metadata": {},
   "source": [
    "Plot mean cross-validation score for each hyperparameter:\n",
    "- X-axis is hyperparameter values\n",
    "- Y-axis is mean CV-score\n",
    "\n",
    "\n",
    "Постройте средний балл перекрестной проверки для каждого гиперпараметра: \n",
    "- Ось X - значения гиперпараметров. \n",
    "- Ось Y - средний CV-балл.\n",
    "\n",
    "\n",
    "To show variance of obtained estimatets add *mean + 3 stds* and *mean - 3 stds* to the plot. You may use `plt.fill_between` to make it more descriptive (it will look like a coridor around the mean).\n",
    "\n",
    "Чтобы показать дисперсию полученных оценок, добавьте к графику среднее + 3 стандартных значения и среднее - 3 стандартных условия. Вы можете использовать plt.fill_between, чтобы сделать его более наглядным (он будет выглядеть как коридор вокруг среднего значения).\n",
    "\n",
    "To get values we need to plot search in `knn_grid_searcher` parameters and attributes.\n",
    "\n",
    "Для получения значений нам нужно построить поиск по параметрам и атрибутам knn_grid_searcher."
   ]
  },
  {
   "cell_type": "code",
   "execution_count": 61,
   "metadata": {},
   "outputs": [],
   "source": [
    "means = knn_grid_searcher.cv_results_['mean_test_score']\n",
    "stds  = knn_grid_searcher.cv_results_['std_test_score']"
   ]
  },
  {
   "cell_type": "code",
   "execution_count": 62,
   "metadata": {},
   "outputs": [
    {
     "data": {
      "image/png": "[encoded data removed]",
      "text/plain": [
       "<Figure size 720x432 with 1 Axes>"
      ]
     },
     "metadata": {
      "needs_background": "light"
     },
     "output_type": "display_data"
    }
   ],
   "source": [
    "plt.figure(figsize=(10, 6))\n",
    "xs = knn_grid_searcher.param_grid[\"n_neighbors\"]\n",
    "plt.plot(xs, means, color = 'red')\n",
    "plt.fill_between(xs, means + 3*stds, means - 3*stds)\n",
    "plt.legend(['mean_test_score', '(+-)std_test_score'])\n",
    "plt.show()"
   ]
  },
  {
   "cell_type": "markdown",
   "metadata": {},
   "source": [
    "Print the best estimator and its score:"
   ]
  },
  {
   "cell_type": "code",
   "execution_count": 63,
   "metadata": {},
   "outputs": [],
   "source": [
    "scores = cross_val_score(knn_grid_searcher, X_val_smaller, y_val, cv=5, n_jobs=1)"
   ]
  },
  {
   "cell_type": "code",
   "execution_count": 64,
   "metadata": {},
   "outputs": [
    {
     "name": "stdout",
     "output_type": "stream",
     "text": [
      "Оценки точности на 5 тестовых подмножествах: [0.573 0.571 0.563 0.567 0.568]\n"
     ]
    }
   ],
   "source": [
    "print('Оценки точности на 5 тестовых подмножествах:', scores)"
   ]
  },
  {
   "cell_type": "code",
   "execution_count": 65,
   "metadata": {},
   "outputs": [
    {
     "name": "stdout",
     "output_type": "stream",
     "text": [
      "Наилучшая оценка: 0.573\n"
     ]
    }
   ],
   "source": [
    "print('Наилучшая оценка:', max(scores))"
   ]
  },
  {
   "cell_type": "markdown",
   "metadata": {},
   "source": [
    "Now do the same for 3 other models:\n",
    "- Decision Tree: grid search the `max_depth` parameter\n",
    "- LogisticRegression: `penalty`\n",
    "- RandomForest: `n_estimators`\n",
    "\n",
    "Some of the hyperparameters are not numeric, but categorical (like `penalty`) and you should choose some other way to plot cv-scores instead of `plt.plot`"
   ]
  },
  {
   "cell_type": "code",
   "execution_count": 66,
   "metadata": {},
   "outputs": [],
   "source": [
    "dt_clf = DecisionTreeClassifier()\n",
    "dt_grid = {\"max_depth\": np.arange(1,51)}    # Максимальная глубина дерева"
   ]
  },
  {
   "cell_type": "code",
   "execution_count": 67,
   "metadata": {},
   "outputs": [
    {
     "name": "stdout",
     "output_type": "stream",
     "text": [
      "Наилучший параметр:  5\n"
     ]
    }
   ],
   "source": [
    "dt_grid_searcher = GridSearchCV(dt_clf, param_grid=dt_grid, cv=5, return_train_score=True, n_jobs=-1) \n",
    "dt_grid_searcher.fit(X_train_smaller, y_train)\n",
    "print('Наилучший параметр: ', dt_grid_searcher.best_params_[\"max_depth\"])"
   ]
  },
  {
   "cell_type": "code",
   "execution_count": 68,
   "metadata": {},
   "outputs": [
    {
     "data": {
      "text/plain": [
       "DecisionTreeClassifier(max_depth=5)"
      ]
     },
     "execution_count": 68,
     "metadata": {},
     "output_type": "execute_result"
    }
   ],
   "source": [
    "dt_clf = DecisionTreeClassifier(max_depth = 5)\n",
    "dt_clf.fit(X_train_smaller, y_train)"
   ]
  },
  {
   "cell_type": "code",
   "execution_count": 69,
   "metadata": {},
   "outputs": [
    {
     "name": "stdout",
     "output_type": "stream",
     "text": [
      "Среднеквадратичная ошибка 0.3595\n"
     ]
    }
   ],
   "source": [
    "pred = dt_clf.predict(X_test_smaller)\n",
    "mse  = mean_squared_error(pred, y_test)\n",
    "print('Среднеквадратичная ошибка', mse)"
   ]
  },
  {
   "cell_type": "code",
   "execution_count": 70,
   "metadata": {},
   "outputs": [],
   "source": [
    "means = dt_grid_searcher.cv_results_['mean_test_score']\n",
    "stds  = dt_grid_searcher.cv_results_['std_test_score']"
   ]
  },
  {
   "cell_type": "code",
   "execution_count": 71,
   "metadata": {},
   "outputs": [
    {
     "data": {
      "image/png": "[encoded data removed]",
      "text/plain": [
       "<Figure size 720x432 with 1 Axes>"
      ]
     },
     "metadata": {
      "needs_background": "light"
     },
     "output_type": "display_data"
    }
   ],
   "source": [
    "plt.figure(figsize=(10, 6))\n",
    "xs = dt_grid_searcher.param_grid[\"max_depth\"]\n",
    "plt.plot(xs, means, color = 'red')\n",
    "plt.fill_between(xs, means + 3*stds, means - 3*stds)\n",
    "plt.legend(['mean_test_score', '(+-)std_test_score'])\n",
    "plt.show()"
   ]
  },
  {
   "cell_type": "code",
   "execution_count": 72,
   "metadata": {},
   "outputs": [
    {
     "name": "stdout",
     "output_type": "stream",
     "text": [
      "Оценки точности на 5 тестовых подмножествах:\n",
      " [0.638 0.632 0.633 0.63  0.642]\n",
      "Наилучшая оценка: 0.642\n"
     ]
    }
   ],
   "source": [
    "scores = cross_val_score(dt_grid_searcher, X_val_smaller, y_val, cv=5, n_jobs=1)\n",
    "print('Оценки точности на 5 тестовых подмножествах:\\n', scores)\n",
    "print('Наилучшая оценка:', max(scores))"
   ]
  },
  {
   "cell_type": "code",
   "execution_count": 73,
   "metadata": {},
   "outputs": [],
   "source": [
    "lg_clf = LogisticRegression()\n",
    "lg_grid = {\"penalty\": np.array(['l1', 'l2', 'elasticnet', 'none'])}  # Используется для указания нормы, применяемой при наложении штрафов"
   ]
  },
  {
   "cell_type": "code",
   "execution_count": 75,
   "metadata": {},
   "outputs": [
    {
     "name": "stdout",
     "output_type": "stream",
     "text": [
      "Наилучший параметр:  l2\n"
     ]
    }
   ],
   "source": [
    "lg_grid_searcher = GridSearchCV(lg_clf, param_grid=lg_grid, cv=5, return_train_score=True, n_jobs=-1) \n",
    "lg_grid_searcher.fit(X_train_smaller, y_train)\n",
    "print('Наилучший параметр: ', lg_grid_searcher.best_params_[\"penalty\"])"
   ]
  },
  {
   "cell_type": "code",
   "execution_count": 80,
   "metadata": {},
   "outputs": [
    {
     "data": {
      "text/plain": [
       "LogisticRegression()"
      ]
     },
     "execution_count": 80,
     "metadata": {},
     "output_type": "execute_result"
    }
   ],
   "source": [
    "lg_clf = LogisticRegression(penalty='l2')\n",
    "lg_clf.fit(X_train_smaller, y_train)"
   ]
  },
  {
   "cell_type": "code",
   "execution_count": 81,
   "metadata": {},
   "outputs": [
    {
     "name": "stdout",
     "output_type": "stream",
     "text": [
      "Среднеквадратичная ошибка 0.431\n"
     ]
    }
   ],
   "source": [
    "pred = lg_clf.predict(X_test_smaller)\n",
    "mse  = mean_squared_error(pred, y_test)\n",
    "print('Среднеквадратичная ошибка', mse)"
   ]
  },
  {
   "cell_type": "code",
   "execution_count": 82,
   "metadata": {},
   "outputs": [],
   "source": [
    "means = lg_grid_searcher.cv_results_['mean_test_score']\n",
    "stds  = lg_grid_searcher.cv_results_['std_test_score']"
   ]
  },
  {
   "cell_type": "code",
   "execution_count": null,
   "metadata": {},
   "outputs": [],
   "source": []
  },
  {
   "cell_type": "code",
   "execution_count": 84,
   "metadata": {},
   "outputs": [
    {
     "name": "stdout",
     "output_type": "stream",
     "text": [
      "['l1' 'l2' 'elasticnet' 'none']\n",
      "[    nan 0.56495     nan 0.56495]\n"
     ]
    },
    {
     "data": {
      "image/png": "[encoded data removed]",
      "text/plain": [
       "<Figure size 720x432 with 1 Axes>"
      ]
     },
     "metadata": {
      "needs_background": "light"
     },
     "output_type": "display_data"
    }
   ],
   "source": [
    "plt.figure(figsize=(10, 6))\n",
    "xs = lg_grid_searcher.param_grid[\"penalty\"]\n",
    "print(xs)\n",
    "print(means)\n",
    "plt.bar(xs, means+stds, color = 'c')\n",
    "plt.bar(xs, means, color = 'pink')\n",
    "plt.bar(xs, means-stds, color='w')\n",
    "plt.legend(['+std_test_score', '-std_test_score', 'на пересечении means'])\n",
    "plt.show()"
   ]
  },
  {
   "cell_type": "code",
   "execution_count": 85,
   "metadata": {},
   "outputs": [
    {
     "name": "stdout",
     "output_type": "stream",
     "text": [
      "Оценки точности на 5 тестовых подмножествах:\n",
      " [0.57  0.57  0.575 0.571 0.567]\n",
      "Наилучшая оценка: 0.575\n"
     ]
    }
   ],
   "source": [
    "scores = cross_val_score(lg_grid_searcher, X_val_smaller, y_val, cv=5, n_jobs=1)\n",
    "print('Оценки точности на 5 тестовых подмножествах:\\n', scores)\n",
    "print('Наилучшая оценка:', max(scores))"
   ]
  },
  {
   "cell_type": "code",
   "execution_count": 86,
   "metadata": {},
   "outputs": [],
   "source": [
    "rf_clf = RandomForestClassifier()\n",
    "rf_grid = {\"n_estimators\": np.arange(1,100)}  # количество деревьев в лесу"
   ]
  },
  {
   "cell_type": "code",
   "execution_count": 87,
   "metadata": {},
   "outputs": [
    {
     "name": "stdout",
     "output_type": "stream",
     "text": [
      "Наилучший параметр:  98\n"
     ]
    }
   ],
   "source": [
    "rf_grid_searcher = GridSearchCV(rf_clf, param_grid=rf_grid, cv=5, return_train_score=True, n_jobs=-1) \n",
    "rf_grid_searcher.fit(X_train_smaller, y_train)\n",
    "print('Наилучший параметр: ', rf_grid_searcher.best_params_[\"n_estimators\"])"
   ]
  },
  {
   "cell_type": "code",
   "execution_count": 89,
   "metadata": {},
   "outputs": [
    {
     "data": {
      "text/plain": [
       "RandomForestClassifier(n_estimators=98)"
      ]
     },
     "execution_count": 89,
     "metadata": {},
     "output_type": "execute_result"
    }
   ],
   "source": [
    "rf_clf = RandomForestClassifier(n_estimators=98)\n",
    "rf_clf.fit(X_train_smaller, y_train)"
   ]
  },
  {
   "cell_type": "code",
   "execution_count": 90,
   "metadata": {},
   "outputs": [
    {
     "name": "stdout",
     "output_type": "stream",
     "text": [
      "Среднеквадратичная ошибка 0.3486\n"
     ]
    }
   ],
   "source": [
    "pred = rf_clf.predict(X_test_smaller)\n",
    "mse  = mean_squared_error(pred, y_test)\n",
    "print('Среднеквадратичная ошибка', mse)"
   ]
  },
  {
   "cell_type": "code",
   "execution_count": 91,
   "metadata": {},
   "outputs": [],
   "source": [
    "means = rf_grid_searcher.cv_results_['mean_test_score']\n",
    "stds  = rf_grid_searcher.cv_results_['std_test_score']"
   ]
  },
  {
   "cell_type": "code",
   "execution_count": 92,
   "metadata": {},
   "outputs": [
    {
     "data": {
      "image/png": "[encoded data removed]",
      "text/plain": [
       "<Figure size 720x432 with 1 Axes>"
      ]
     },
     "metadata": {
      "needs_background": "light"
     },
     "output_type": "display_data"
    }
   ],
   "source": [
    "plt.figure(figsize=(10, 6))\n",
    "xs = rf_grid_searcher.param_grid[\"n_estimators\"]\n",
    "plt.plot(xs, means, color = 'red')\n",
    "plt.fill_between(xs, means + 3*stds, means - 3*stds)\n",
    "plt.legend(['mean_test_score', '(+-)std_test_score'])\n",
    "plt.show()"
   ]
  },
  {
   "cell_type": "code",
   "execution_count": 93,
   "metadata": {},
   "outputs": [
    {
     "name": "stdout",
     "output_type": "stream",
     "text": [
      "Оценки точности на 5 тестовых подмножествах:\n",
      " [0.643 0.637 0.622 0.638 0.631]\n",
      "Наилучшая оценка: 0.643\n"
     ]
    }
   ],
   "source": [
    "scores = cross_val_score(rf_grid_searcher, X_val_smaller, y_val, cv=5, n_jobs=1)\n",
    "print('Оценки точности на 5 тестовых подмножествах:\\n', scores)\n",
    "print('Наилучшая оценка:', max(scores))"
   ]
  },
  {
   "cell_type": "markdown",
   "metadata": {},
   "source": [
    "Самая маленькая среднеквадратичная ошибка у RandomForestClassifier(n_estimators=98) равная 0.3486\n",
    "\n",
    "Наилучшая оценка по cross_val_score у RandomForestClassifier(n_estimators=98) равная 0.643"
   ]
  },
  {
   "cell_type": "markdown",
   "metadata": {},
   "source": [
    "**Task 2.3 [3 points] 2-D Grid Search** \n",
    "\n",
    "Now it's time to improve the models with a 2-D grid search. For each classifier we will look for an optimal **pair** of hyperparameters. However, going through the whole grid may be computationally expensive, so here are some ways to speed it up:\n",
    "\n",
    "1. Make sparse grids with fewer number of parameters\n",
    "2. Choose random subsample from grid points and look for the optimum there\n",
    "3. Reduce number of folds in cross-validation\n",
    "4. Make a greedy grid search (use two grid-searchers sequentially)\n",
    "\n",
    "You have 4 models, 4 methods how to make grid search faster, choose one method per model and try it out.\n",
    "Report whether you got boost in quality.\n",
    "\n",
    "Here are default 2-D grids:\n",
    "- kNN:\n",
    "    - n_neighbors from 1 to 50\n",
    "    - metric: `euclidean`, `manhattan` or `chebyshev`\n",
    "    \n",
    "- linear\n",
    "    - penalty `l1`, `l2`, `elasticnet`, `none`\n",
    "    - C from 0.001 to 1000\n",
    "    \n",
    "- dtree:\n",
    "    - max_depth from 1 to 50\n",
    "    - criterion `gini` or `entropy`\n",
    "\n",
    "- rf\n",
    "    - n_estimators from 1 to 200\n",
    "    - max_features from 1 to 30\n",
    "    \n"
   ]
  },
  {
   "cell_type": "code",
   "execution_count": 94,
   "metadata": {},
   "outputs": [],
   "source": [
    "knn_clf = KNeighborsClassifier()\n",
    "knn_grid = {\"n_neighbors\": np.arange(1,51),\"metric\": np.array(['euclidean', 'manhattan', 'chebyshev'])}"
   ]
  },
  {
   "cell_type": "code",
   "execution_count": 95,
   "metadata": {},
   "outputs": [
    {
     "data": {
      "text/plain": [
       "GridSearchCV(cv=5, estimator=KNeighborsClassifier(), n_jobs=-1,\n",
       "             param_grid={'metric': array(['euclidean', 'manhattan', 'chebyshev'], dtype='<U9'),\n",
       "                         'n_neighbors': array([ 1,  2,  3,  4,  5,  6,  7,  8,  9, 10, 11, 12, 13, 14, 15, 16, 17,\n",
       "       18, 19, 20, 21, 22, 23, 24, 25, 26, 27, 28, 29, 30, 31, 32, 33, 34,\n",
       "       35, 36, 37, 38, 39, 40, 41, 42, 43, 44, 45, 46, 47, 48, 49, 50])},\n",
       "             return_train_score=True)"
      ]
     },
     "execution_count": 95,
     "metadata": {},
     "output_type": "execute_result"
    }
   ],
   "source": [
    "knn_grid_searcher = GridSearchCV(knn_clf, param_grid=knn_grid, cv=5, return_train_score=True, n_jobs=-1) \n",
    "knn_grid_searcher.fit(X_train_smaller, y_train)"
   ]
  },
  {
   "cell_type": "code",
   "execution_count": 96,
   "metadata": {},
   "outputs": [
    {
     "name": "stdout",
     "output_type": "stream",
     "text": [
      "Наилучший параметр n_neighbors:  37\n",
      "Наилучший параметр metric:  manhattan\n"
     ]
    }
   ],
   "source": [
    "print('Наилучший параметр n_neighbors: ', knn_grid_searcher.best_params_[\"n_neighbors\"])\n",
    "print('Наилучший параметр metric: ',      knn_grid_searcher.best_params_[\"metric\"])"
   ]
  },
  {
   "cell_type": "code",
   "execution_count": 97,
   "metadata": {},
   "outputs": [
    {
     "data": {
      "text/plain": [
       "KNeighborsClassifier(metric='manhattan', n_neighbors=37)"
      ]
     },
     "execution_count": 97,
     "metadata": {},
     "output_type": "execute_result"
    }
   ],
   "source": [
    "knn_clf = KNeighborsClassifier(n_neighbors = 37, metric = 'manhattan')\n",
    "knn_clf.fit(X_train_smaller, y_train)"
   ]
  },
  {
   "cell_type": "code",
   "execution_count": 98,
   "metadata": {},
   "outputs": [
    {
     "name": "stdout",
     "output_type": "stream",
     "text": [
      "Среднеквадратичная ошибка 0.4007\n"
     ]
    }
   ],
   "source": [
    "pred = knn_clf.predict(X_test_smaller)\n",
    "mse  = mean_squared_error(pred, y_test)\n",
    "print('Среднеквадратичная ошибка', mse)"
   ]
  },
  {
   "cell_type": "code",
   "execution_count": 99,
   "metadata": {},
   "outputs": [
    {
     "name": "stdout",
     "output_type": "stream",
     "text": [
      "Оценки точности на 5 тестовых подмножествах:\n",
      " [0.581 0.582 0.576 0.577 0.584]\n",
      "Наилучшая оценка: 0.584\n"
     ]
    }
   ],
   "source": [
    "scores = cross_val_score(knn_grid_searcher, X_val_smaller, y_val, cv=5, n_jobs=1)\n",
    "print('Оценки точности на 5 тестовых подмножествах:\\n', scores)\n",
    "print('Наилучшая оценка:', max(scores))"
   ]
  },
  {
   "cell_type": "markdown",
   "metadata": {},
   "source": [
    "Ошибка значительно понизилась, а оценка повысилась"
   ]
  },
  {
   "cell_type": "code",
   "execution_count": 100,
   "metadata": {},
   "outputs": [],
   "source": [
    "lg_clf = LogisticRegression()\n",
    "lg_grid = {\"penalty\": np.array(['l1', 'l2', 'elasticnet', 'none']),\"C\": np.logspace(-3, 3, endpoint=True, base = 10)} "
   ]
  },
  {
   "cell_type": "code",
   "execution_count": 101,
   "metadata": {},
   "outputs": [
    {
     "data": {
      "text/plain": [
       "GridSearchCV(cv=5, estimator=LogisticRegression(), n_jobs=-1,\n",
       "             param_grid={'C': array([1.00000000e-03, 1.32571137e-03, 1.75751062e-03, 2.32995181e-03,\n",
       "       3.08884360e-03, 4.09491506e-03, 5.42867544e-03, 7.19685673e-03,\n",
       "       9.54095476e-03, 1.26485522e-02, 1.67683294e-02, 2.22299648e-02,\n",
       "       2.94705170e-02, 3.90693994e-02, 5.17947468e-02, 6.86648845e-02,\n",
       "       9.10298178e-02, 1.20679264e-0...\n",
       "       8.28642773e+00, 1.09854114e+01, 1.45634848e+01, 1.93069773e+01,\n",
       "       2.55954792e+01, 3.39322177e+01, 4.49843267e+01, 5.96362332e+01,\n",
       "       7.90604321e+01, 1.04811313e+02, 1.38949549e+02, 1.84206997e+02,\n",
       "       2.44205309e+02, 3.23745754e+02, 4.29193426e+02, 5.68986603e+02,\n",
       "       7.54312006e+02, 1.00000000e+03]),\n",
       "                         'penalty': array(['l1', 'l2', 'elasticnet', 'none'], dtype='<U10')},\n",
       "             return_train_score=True)"
      ]
     },
     "execution_count": 101,
     "metadata": {},
     "output_type": "execute_result"
    }
   ],
   "source": [
    "lg_grid_searcher = GridSearchCV(lg_clf, param_grid=lg_grid, cv=5, return_train_score=True, n_jobs=-1) \n",
    "lg_grid_searcher.fit(X_train_smaller, y_train)"
   ]
  },
  {
   "cell_type": "code",
   "execution_count": 102,
   "metadata": {},
   "outputs": [
    {
     "name": "stdout",
     "output_type": "stream",
     "text": [
      "Наилучший параметр penalty:  l2\n",
      "Наилучший параметр C:  0.001\n"
     ]
    }
   ],
   "source": [
    "print('Наилучший параметр penalty: ',lg_grid_searcher.best_params_[\"penalty\"])\n",
    "print('Наилучший параметр C: ',      lg_grid_searcher.best_params_[\"C\"])"
   ]
  },
  {
   "cell_type": "code",
   "execution_count": 103,
   "metadata": {},
   "outputs": [
    {
     "data": {
      "text/plain": [
       "LogisticRegression(C=0.001)"
      ]
     },
     "execution_count": 103,
     "metadata": {},
     "output_type": "execute_result"
    }
   ],
   "source": [
    "lg_clf = LogisticRegression(penalty = 'l2', C = 0.001)\n",
    "lg_clf.fit(X_train_smaller, y_train)"
   ]
  },
  {
   "cell_type": "code",
   "execution_count": 104,
   "metadata": {},
   "outputs": [
    {
     "name": "stdout",
     "output_type": "stream",
     "text": [
      "Среднеквадратичная ошибка 0.429\n"
     ]
    }
   ],
   "source": [
    "pred = lg_clf.predict(X_test_smaller)\n",
    "mse  = mean_squared_error(pred, y_test)\n",
    "print('Среднеквадратичная ошибка', mse)"
   ]
  },
  {
   "cell_type": "code",
   "execution_count": 106,
   "metadata": {},
   "outputs": [
    {
     "name": "stderr",
     "output_type": "stream",
     "text": [
      "c:\\users\\пользователь\\appdata\\local\\programs\\python\\python38-32\\lib\\site-packages\\sklearn\\linear_model\\_logistic.py:1320: UserWarning: Setting penalty='none' will ignore the C and l1_ratio parameters\n",
      "  warnings.warn(\n",
      "c:\\users\\пользователь\\appdata\\local\\programs\\python\\python38-32\\lib\\site-packages\\sklearn\\linear_model\\_logistic.py:1320: UserWarning: Setting penalty='none' will ignore the C and l1_ratio parameters\n",
      "  warnings.warn(\n"
     ]
    },
    {
     "name": "stdout",
     "output_type": "stream",
     "text": [
      "Оценки точности на 5 тестовых подмножествах:\n",
      " [0.57  0.57  0.571 0.57  0.567]\n",
      "Наилучшая оценка: 0.571\n"
     ]
    }
   ],
   "source": [
    "scores = cross_val_score(lg_grid_searcher, X_val_smaller, y_val, cv=5, n_jobs=1)\n",
    "print('Оценки точности на 5 тестовых подмножествах:\\n', scores)\n",
    "print('Наилучшая оценка:', max(scores))"
   ]
  },
  {
   "cell_type": "markdown",
   "metadata": {},
   "source": [
    "Ошибка понизилась, а точность совсем не значительно понизилась (на 0,004)."
   ]
  },
  {
   "cell_type": "code",
   "execution_count": 107,
   "metadata": {},
   "outputs": [],
   "source": [
    "dt_clf = DecisionTreeClassifier()\n",
    "dt_grid = {\"max_depth\": np.arange(1,51),\"criterion\": np.array(['gini','entropy'])}"
   ]
  },
  {
   "cell_type": "code",
   "execution_count": 108,
   "metadata": {},
   "outputs": [
    {
     "data": {
      "text/plain": [
       "GridSearchCV(cv=5, estimator=DecisionTreeClassifier(), n_jobs=-1,\n",
       "             param_grid={'criterion': array(['gini', 'entropy'], dtype='<U7'),\n",
       "                         'max_depth': array([ 1,  2,  3,  4,  5,  6,  7,  8,  9, 10, 11, 12, 13, 14, 15, 16, 17,\n",
       "       18, 19, 20, 21, 22, 23, 24, 25, 26, 27, 28, 29, 30, 31, 32, 33, 34,\n",
       "       35, 36, 37, 38, 39, 40, 41, 42, 43, 44, 45, 46, 47, 48, 49, 50])},\n",
       "             return_train_score=True)"
      ]
     },
     "execution_count": 108,
     "metadata": {},
     "output_type": "execute_result"
    }
   ],
   "source": [
    "dt_grid_searcher = GridSearchCV(dt_clf, param_grid=dt_grid, cv=5, return_train_score=True, n_jobs=-1) \n",
    "dt_grid_searcher.fit(X_train_smaller, y_train)"
   ]
  },
  {
   "cell_type": "code",
   "execution_count": 109,
   "metadata": {},
   "outputs": [
    {
     "name": "stdout",
     "output_type": "stream",
     "text": [
      "Наилучший параметр max_depth:  5\n",
      "Наилучший параметр criterion:  entropy\n"
     ]
    }
   ],
   "source": [
    "print('Наилучший параметр max_depth: ',dt_grid_searcher.best_params_[\"max_depth\"])\n",
    "print('Наилучший параметр criterion: ',dt_grid_searcher.best_params_[\"criterion\"])"
   ]
  },
  {
   "cell_type": "code",
   "execution_count": 110,
   "metadata": {},
   "outputs": [
    {
     "data": {
      "text/plain": [
       "DecisionTreeClassifier(criterion='entropy', max_depth=5)"
      ]
     },
     "execution_count": 110,
     "metadata": {},
     "output_type": "execute_result"
    }
   ],
   "source": [
    "dt_clf = DecisionTreeClassifier(max_depth = 5, criterion = 'entropy')\n",
    "dt_clf.fit(X_train_smaller, y_train)"
   ]
  },
  {
   "cell_type": "code",
   "execution_count": 111,
   "metadata": {},
   "outputs": [
    {
     "name": "stdout",
     "output_type": "stream",
     "text": [
      "Среднеквадратичная ошибка 0.3611\n"
     ]
    }
   ],
   "source": [
    "pred = dt_clf.predict(X_test_smaller)\n",
    "mse  = mean_squared_error(pred, y_test)\n",
    "print('Среднеквадратичная ошибка', mse)"
   ]
  },
  {
   "cell_type": "code",
   "execution_count": 112,
   "metadata": {
    "scrolled": true
   },
   "outputs": [
    {
     "name": "stdout",
     "output_type": "stream",
     "text": [
      "Оценки точности на 5 тестовых подмножествах:\n",
      " [0.636 0.632 0.633 0.631 0.642]\n",
      "Наилучшая оценка: 0.642\n"
     ]
    }
   ],
   "source": [
    "scores = cross_val_score(dt_grid_searcher, X_val_smaller, y_val, cv=5, n_jobs=1)\n",
    "print('Оценки точности на 5 тестовых подмножествах:\\n', scores)\n",
    "print('Наилучшая оценка:', max(scores))"
   ]
  },
  {
   "cell_type": "markdown",
   "metadata": {},
   "source": [
    "Существенно понизилась ошибка, точность незначительно повысилась."
   ]
  },
  {
   "cell_type": "code",
   "execution_count": 113,
   "metadata": {},
   "outputs": [],
   "source": [
    "rf_clf = RandomForestClassifier()\n",
    "rf_grid = {\"n_estimators\": np.arange(1,200, 10),\"max_features\": np.arange(1,30,   5)}"
   ]
  },
  {
   "cell_type": "code",
   "execution_count": 114,
   "metadata": {},
   "outputs": [
    {
     "data": {
      "text/plain": [
       "GridSearchCV(cv=5, estimator=RandomForestClassifier(), n_jobs=-1,\n",
       "             param_grid={'max_features': array([ 1,  6, 11, 16, 21, 26]),\n",
       "                         'n_estimators': array([  1,  11,  21,  31,  41,  51,  61,  71,  81,  91, 101, 111, 121,\n",
       "       131, 141, 151, 161, 171, 181, 191])},\n",
       "             return_train_score=True)"
      ]
     },
     "execution_count": 114,
     "metadata": {},
     "output_type": "execute_result"
    }
   ],
   "source": [
    "rf_grid_searcher = GridSearchCV(rf_clf, param_grid=rf_grid, cv=5, return_train_score=True, n_jobs=-1) \n",
    "rf_grid_searcher.fit(X_train_smaller, y_train)"
   ]
  },
  {
   "cell_type": "code",
   "execution_count": 115,
   "metadata": {},
   "outputs": [
    {
     "name": "stdout",
     "output_type": "stream",
     "text": [
      "Наилучший параметр n_estimators:  161\n",
      "Наилучший параметр max_features:  6\n"
     ]
    }
   ],
   "source": [
    "print('Наилучший параметр n_estimators: ',rf_grid_searcher.best_params_[\"n_estimators\"])\n",
    "print('Наилучший параметр max_features: ',rf_grid_searcher.best_params_[\"max_features\"])"
   ]
  },
  {
   "cell_type": "code",
   "execution_count": 116,
   "metadata": {},
   "outputs": [
    {
     "data": {
      "text/plain": [
       "RandomForestClassifier(max_features=6, n_estimators=161)"
      ]
     },
     "execution_count": 116,
     "metadata": {},
     "output_type": "execute_result"
    }
   ],
   "source": [
    "rf_clf = RandomForestClassifier(n_estimators = 161, max_features = 6)\n",
    "rf_clf.fit(X_train_smaller, y_train)"
   ]
  },
  {
   "cell_type": "code",
   "execution_count": 117,
   "metadata": {},
   "outputs": [
    {
     "name": "stdout",
     "output_type": "stream",
     "text": [
      "Среднеквадратичная ошибка 0.3475\n"
     ]
    }
   ],
   "source": [
    "pred = rf_clf.predict(X_test_smaller)\n",
    "mse  = mean_squared_error(pred, y_test)\n",
    "print('Среднеквадратичная ошибка', mse)"
   ]
  },
  {
   "cell_type": "code",
   "execution_count": 118,
   "metadata": {},
   "outputs": [
    {
     "name": "stdout",
     "output_type": "stream",
     "text": [
      "Оценки точности на 5 тестовых подмножествах:\n",
      " [0.628 0.656 0.622 0.631 0.65 ]\n",
      "Наилучшая оценка: 0.656\n"
     ]
    }
   ],
   "source": [
    "scores = cross_val_score(rf_grid_searcher, X_val_smaller, y_val, cv=5, n_jobs=1)\n",
    "print('Оценки точности на 5 тестовых подмножествах:\\n', scores)\n",
    "print('Наилучшая оценка:', max(scores))"
   ]
  },
  {
   "cell_type": "markdown",
   "metadata": {},
   "source": [
    "Значительно понизилась ошибка, точность где-то повысилась, где-то понизилась."
   ]
  },
  {
   "cell_type": "markdown",
   "metadata": {},
   "source": [
    "**Task 2.4 [1 point] Categorical features**\n",
    "\n",
    "Add categorical features and examine how the influence performance of each model. Preprocess the data before applying a model: we need to encode categorical features with one-hot encoding (`get_dummies` from `pandas` or `OneHotEncoder` from `sklearn`).\n",
    "\n",
    "Don't forget to repeat the train-test-val splits."
   ]
  },
  {
   "cell_type": "markdown",
   "metadata": {},
   "source": [
    "Добавьте категориальные характеристики и изучите, как влияет на производительность каждой модели. Предварительно обработайте данные перед применением модели: нам нужно закодировать категориальные функции с помощью однократного кодирования (get_dummies из pandas или OneHotEncoder из sklearn).\n",
    "\n",
    "Не забудьте повторить разделение train-test-val."
   ]
  },
  {
   "cell_type": "code",
   "execution_count": 168,
   "metadata": {
    "scrolled": true
   },
   "outputs": [],
   "source": [
    "objects_with_dummies = pd.get_dummies(data)#, columns=None)"
   ]
  },
  {
   "cell_type": "code",
   "execution_count": 169,
   "metadata": {},
   "outputs": [],
   "source": [
    "X = objects_with_dummies.drop(columns=\"damage_grade\")\n",
    "y = objects_with_dummies[\"damage_grade\"]\n",
    "assert X.shape == (35000, 69) and  y.shape == (35000,)"
   ]
  },
  {
   "cell_type": "code",
   "execution_count": 170,
   "metadata": {},
   "outputs": [],
   "source": [
    "X = pd.DataFrame(st_scaler.fit_transform(X), columns=None)"
   ]
  },
  {
   "cell_type": "code",
   "execution_count": 171,
   "metadata": {},
   "outputs": [],
   "source": [
    "X_train, X_not_train, y_train, y_not_train = train_test_split(X, y, test_size= 3/7, \n",
    "                                                    shuffle=True, stratify = None,\n",
    "                                                    random_state = RANDOM_SEED)\n",
    "\n",
    "X_test, X_val, y_test, y_val = train_test_split(X_not_train, y_not_train, test_size= 1/3,\n",
    "                                                    shuffle=True, stratify= None,\n",
    "                                                    random_state = RANDOM_SEED)\n",
    "\n",
    "assert X_train.shape[0] == 20000 and X_test.shape[0] == 10000 and X_val.shape[0] == 5000"
   ]
  },
  {
   "cell_type": "code",
   "execution_count": 172,
   "metadata": {},
   "outputs": [
    {
     "data": {
      "text/plain": [
       "RandomForestClassifier()"
      ]
     },
     "execution_count": 172,
     "metadata": {},
     "output_type": "execute_result"
    }
   ],
   "source": [
    "rfc = RandomForestClassifier() \n",
    "rfc.fit(X_train, y_train)"
   ]
  },
  {
   "cell_type": "code",
   "execution_count": 173,
   "metadata": {},
   "outputs": [
    {
     "data": {
      "image/png": "[encoded data removed]",
      "text/plain": [
       "<Figure size 1440x288 with 1 Axes>"
      ]
     },
     "metadata": {
      "needs_background": "light"
     },
     "output_type": "display_data"
    }
   ],
   "source": [
    "rfc_coefs = rfc.feature_importances_\n",
    "ncoef = rfc_coefs.shape[0]\n",
    "default_x = np.arange(ncoef)\n",
    "plt.figure(figsize=(20,4))\n",
    "plt.bar(default_x, rfc_coefs, label='model_name', width=0.7, color = 'pink')\n",
    "plt.xticks(default_x)\n",
    "plt.xlabel('Фича')\n",
    "plt.ylabel('Важность')\n",
    "plt.legend('coefs', loc='upper right')\n",
    "plt.grid()\n",
    "plt.show()"
   ]
  },
  {
   "cell_type": "code",
   "execution_count": 174,
   "metadata": {},
   "outputs": [],
   "source": [
    "index = [0,1,2,3,5,6,7]"
   ]
  },
  {
   "cell_type": "code",
   "execution_count": 175,
   "metadata": {},
   "outputs": [],
   "source": [
    "X_train_smaller = X_train[index] \n",
    "X_test_smaller  = X_test[index]\n",
    "X_val_smaller   = X_val[index]"
   ]
  },
  {
   "cell_type": "code",
   "execution_count": 176,
   "metadata": {},
   "outputs": [
    {
     "name": "stdout",
     "output_type": "stream",
     "text": [
      "Наилучшие параметры n_neighbors = 37\n",
      "Наилучший параметр metric = manhattan\n"
     ]
    }
   ],
   "source": [
    "clf = KNeighborsClassifier()\n",
    "grid = {\"n_neighbors\": np.arange(1,51),\"metric\": np.array(['euclidean', 'manhattan', 'chebyshev'])}\n",
    "GSCV = GridSearchCV(clf, param_grid=grid, cv=5, return_train_score=True, n_jobs=-1) \n",
    "GSCV.fit(X_train_smaller, y_train)\n",
    "k = list(grid.keys())\n",
    "print('Наилучшие параметры', k[0], '=', GSCV.best_params_[k[0]])\n",
    "print('Наилучший параметр', k[1], '=', GSCV.best_params_[k[1]])"
   ]
  },
  {
   "cell_type": "code",
   "execution_count": 177,
   "metadata": {},
   "outputs": [
    {
     "name": "stdout",
     "output_type": "stream",
     "text": [
      "Среднеквадратичная ошибка 0.5877\n",
      "Оценки точности на 5 тестовых подмножествах:\n",
      " [0.581 0.582 0.576 0.577 0.584] \n",
      "\n"
     ]
    }
   ],
   "source": [
    "clf = KNeighborsClassifier(n_neighbors = 1, metric = 'euclidean')\n",
    "clf.fit(X_train_smaller, y_train)\n",
    "pred = clf.predict(X_test_smaller)\n",
    "mse  = mean_squared_error(pred, y_test)\n",
    "print('Среднеквадратичная ошибка', mse)\n",
    "scores   = cross_val_score(GSCV, X_val_smaller, y_val, cv=5, n_jobs=1)\n",
    "print('Оценки точности на 5 тестовых подмножествах:\\n', scores, '\\n')"
   ]
  },
  {
   "cell_type": "code",
   "execution_count": 178,
   "metadata": {},
   "outputs": [
    {
     "name": "stdout",
     "output_type": "stream",
     "text": [
      "Наилучшие параметры penalty = l2\n",
      "Наилучший параметр C = 0.001\n"
     ]
    }
   ],
   "source": [
    "clf = LogisticRegression()\n",
    "grid = {\"penalty\": np.array(['l1', 'l2', 'elasticnet', 'none']), \"C\": np.logspace(-3, 3, endpoint=True, base = 10)}\n",
    "GSCV = GridSearchCV(clf, param_grid=grid, cv=5, return_train_score=True, n_jobs=-1) \n",
    "GSCV.fit(X_train_smaller, y_train)\n",
    "k = list(grid.keys())\n",
    "print('Наилучшие параметры', k[0], '=', GSCV.best_params_[k[0]])\n",
    "print('Наилучший параметр', k[1], '=', GSCV.best_params_[k[1]])"
   ]
  },
  {
   "cell_type": "code",
   "execution_count": 179,
   "metadata": {},
   "outputs": [
    {
     "name": "stdout",
     "output_type": "stream",
     "text": [
      "Среднеквадратичная ошибка 0.429\n"
     ]
    },
    {
     "name": "stderr",
     "output_type": "stream",
     "text": [
      "c:\\users\\пользователь\\appdata\\local\\programs\\python\\python38-32\\lib\\site-packages\\sklearn\\linear_model\\_logistic.py:1320: UserWarning: Setting penalty='none' will ignore the C and l1_ratio parameters\n",
      "  warnings.warn(\n",
      "c:\\users\\пользователь\\appdata\\local\\programs\\python\\python38-32\\lib\\site-packages\\sklearn\\linear_model\\_logistic.py:1320: UserWarning: Setting penalty='none' will ignore the C and l1_ratio parameters\n",
      "  warnings.warn(\n"
     ]
    },
    {
     "name": "stdout",
     "output_type": "stream",
     "text": [
      "Оценки точности на 5 тестовых подмножествах:\n",
      " [0.57  0.57  0.571 0.57  0.567] \n",
      "\n"
     ]
    }
   ],
   "source": [
    "clf = LogisticRegression(penalty = GSCV.best_params_[k[0]], C = GSCV.best_params_[k[1]])\n",
    "clf.fit(X_train_smaller, y_train)\n",
    "pred = clf.predict(X_test_smaller)\n",
    "mse  = mean_squared_error(pred, y_test)\n",
    "print('Среднеквадратичная ошибка', mse)\n",
    "scores   = cross_val_score(GSCV, X_val_smaller, y_val, cv=5, n_jobs=1)\n",
    "print('Оценки точности на 5 тестовых подмножествах:\\n', scores, '\\n')"
   ]
  },
  {
   "cell_type": "code",
   "execution_count": 180,
   "metadata": {},
   "outputs": [
    {
     "name": "stdout",
     "output_type": "stream",
     "text": [
      "Наилучшие параметры max_depth = 5\n",
      "Наилучший параметр criterion = entropy\n",
      "Среднеквадратичная ошибка 0.3611\n",
      "Оценки точности на 5 тестовых подмножествах:\n",
      " [0.636 0.632 0.633 0.631 0.642] \n",
      "\n"
     ]
    }
   ],
   "source": [
    "clf = DecisionTreeClassifier()\n",
    "grid = {\"max_depth\": np.arange(1,51),\"criterion\": np.array(['gini','entropy'])}\n",
    "GSCV = GridSearchCV(clf, param_grid=grid, cv=5, return_train_score=True, n_jobs=-1) \n",
    "GSCV.fit(X_train_smaller, y_train)\n",
    "k = list(grid.keys())\n",
    "print('Наилучшие параметры', k[0], '=', GSCV.best_params_[k[0]])\n",
    "print('Наилучший параметр', k[1], '=', GSCV.best_params_[k[1]])\n",
    "clf =  DecisionTreeClassifier(max_depth = GSCV.best_params_[k[0]], criterion = GSCV.best_params_[k[1]])\n",
    "clf.fit(X_train_smaller, y_train)\n",
    "pred = clf.predict(X_test_smaller)\n",
    "mse  = mean_squared_error(pred, y_test)\n",
    "print('Среднеквадратичная ошибка', mse)\n",
    "scores   = cross_val_score(GSCV, X_val_smaller, y_val, cv=5, n_jobs=1)\n",
    "print('Оценки точности на 5 тестовых подмножествах:\\n', scores, '\\n')"
   ]
  },
  {
   "cell_type": "code",
   "execution_count": 182,
   "metadata": {},
   "outputs": [
    {
     "name": "stdout",
     "output_type": "stream",
     "text": [
      "Наилучшие параметры n_estimators = 181\n",
      "Наилучший параметр max_features = 6\n",
      "Среднеквадратичная ошибка 0.3545\n",
      "Оценки точности на 5 тестовых подмножествах:\n",
      " [0.639 0.639 0.611 0.634 0.64 ] \n",
      "\n"
     ]
    }
   ],
   "source": [
    "clf = RandomForestClassifier()\n",
    "grid = {\"n_estimators\": np.arange(1,200, 20),\"max_features\": np.arange(1,30, 5)}\n",
    "GSCV = GridSearchCV(clf, param_grid=grid, cv=5, return_train_score=True, n_jobs=-1) \n",
    "GSCV.fit(X_train_smaller, y_train)\n",
    "k = list(grid.keys())\n",
    "print('Наилучшие параметры', k[0], '=', GSCV.best_params_[k[0]])\n",
    "print('Наилучший параметр', k[1], '=', GSCV.best_params_[k[1]])\n",
    "clf =  RandomForestClassifier(n_estimators = GSCV.best_params_[k[0]], max_features = GSCV.best_params_[k[1]])\n",
    "clf.fit(X_train_smaller, y_train)\n",
    "pred = clf.predict(X_test_smaller)\n",
    "mse  = mean_squared_error(pred, y_test)\n",
    "print('Среднеквадратичная ошибка', mse)\n",
    "scores   = cross_val_score(GSCV, X_val_smaller, y_val, cv=5, n_jobs=1)\n",
    "print('Оценки точности на 5 тестовых подмножествах:\\n', scores, '\\n')"
   ]
  },
  {
   "cell_type": "markdown",
   "metadata": {},
   "source": [
    "What was your best model before adding categorical features?\n",
    "\n",
    "Use GridSearch + 5-fold CV on **train set** to define your new best model."
   ]
  },
  {
   "cell_type": "code",
   "execution_count": null,
   "metadata": {},
   "outputs": [],
   "source": [
    "pass"
   ]
  },
  {
   "cell_type": "markdown",
   "metadata": {},
   "source": [
    "Performance of which model increased the most? Why?\n",
    "\n",
    "Производительность какой модели повысилась больше всего? Почему?\n",
    "\n",
    "**Your answer here**:"
   ]
  },
  {
   "cell_type": "markdown",
   "metadata": {},
   "source": [
    "**Task 2.5 [2 point] Blending**\n",
    "\n",
    "Since you have already trained and tuned a lot of models, it might be useful to **blend** two best classifiers to get one even better.\n",
    "\n",
    "Pick two best models, say, `clf_a` and `clf_b`, train them on the `train_set`.\n",
    "\n",
    "Then use `Voting classifier` to build \n",
    "$$\n",
    "clf_c(\\alpha) = \\alpha \\cdot clf_a + (1 - \\alpha) \\cdot clf_b\n",
    "$$\n",
    "You will have to tune $\\alpha$ using grid search on `test_set` and then make final quality assessment on `val_set`."
   ]
  },
  {
   "cell_type": "markdown",
   "metadata": {},
   "source": [
    "Поскольку вы уже обучили и настроили множество моделей, может быть полезно смешать два лучших классификатора, чтобы сделать один еще лучше.\n",
    "\n",
    "Выберите две лучшие модели, скажем, clf_a и clf_b, обучите их на train_set.\n",
    "\n",
    "Затем используйте классификатор голосования для создания\n",
    "\n",
    "𝑐𝑙𝑓𝑐 (𝛼) = 𝛼⋅𝑐𝑙𝑓𝑎 + (1 − 𝛼) ⋅𝑐𝑙𝑓𝑏\n",
    " \n",
    "Вам нужно будет настроить 𝛼, используя поиск по сетке на test_set, а затем произвести окончательную оценку качества на val_set."
   ]
  },
  {
   "cell_type": "code",
   "execution_count": 186,
   "metadata": {},
   "outputs": [],
   "source": [
    "data    = pd.read_csv(\"richters_sample.csv\")\n",
    "objects = data.drop(columns=\"damage_grade\")\n",
    "labels  = data[\"damage_grade\"]\n",
    "X = objects._get_numeric_data()\n",
    "y = labels\n",
    "assert X.shape == (35000, 31) and  y.shape == (35000,)\n",
    "X = pd.DataFrame(scaler.fit_transform(X), columns=None)\n",
    "X_train, X_not_train, y_train, y_not_train = train_test_split(X, y, test_size= 3/7, \n",
    "                                                    shuffle=True, stratify = None,\n",
    "                                                    random_state = RANDOM_SEED)\n",
    "\n",
    "X_test, X_val, y_test, y_val = train_test_split(X_not_train, y_not_train, test_size= 1/3,\n",
    "                                                    shuffle=True, stratify= None,\n",
    "                                                    random_state = RANDOM_SEED)\n",
    "\n",
    "assert X_train.shape[0] == 20000 and X_test.shape[0] == 10000 and X_val.shape[0] == 5000\n"
   ]
  },
  {
   "cell_type": "code",
   "execution_count": 187,
   "metadata": {
    "scrolled": true
   },
   "outputs": [
    {
     "data": {
      "image/png": "[encoded data removed]",
      "text/plain": [
       "<Figure size 864x288 with 1 Axes>"
      ]
     },
     "metadata": {
      "needs_background": "light"
     },
     "output_type": "display_data"
    }
   ],
   "source": [
    "rfc = RandomForestClassifier() #LinearRegression()\n",
    "rfc.fit(X_train, y_train)\n",
    "rfc_coefs = rfc.feature_importances_  # возвращает вектор \"важностей\" признаков\n",
    "ncoef = rfc_coefs.shape[0]\n",
    "default_x = np.arange(ncoef)\n",
    "plt.figure(figsize=(12,4))\n",
    "plt.bar(default_x, rfc_coefs, label='model_name', width=0.7, color = 'pink')\n",
    "plt.xticks(default_x)\n",
    "plt.xlabel('Фича')\n",
    "plt.ylabel('Важность')\n",
    "plt.legend('coefs', loc='upper right')\n",
    "plt.grid()\n",
    "plt.show()"
   ]
  },
  {
   "cell_type": "code",
   "execution_count": 188,
   "metadata": {},
   "outputs": [],
   "source": [
    "index = [0, 1, 2, 3, 5, 6, 7]\n",
    "X_train_smaller = X_train[index] \n",
    "X_test_smaller  = X_test[index]\n",
    "X_val_smaller   = X_val[index]"
   ]
  },
  {
   "cell_type": "code",
   "execution_count": 222,
   "metadata": {},
   "outputs": [
    {
     "data": {
      "text/plain": [
       "DecisionTreeClassifier(max_depth=3)"
      ]
     },
     "execution_count": 222,
     "metadata": {},
     "output_type": "execute_result"
    }
   ],
   "source": [
    "clf_a = RandomForestClassifier(n_estimators = 1, max_features = 1)\n",
    "clf_b = DecisionTreeClassifier(max_depth = 3, criterion = 'gini')\n",
    "clf_a.fit(X_train_smaller, y_train)\n",
    "clf_b.fit(X_train_smaller, y_train)"
   ]
  },
  {
   "cell_type": "code",
   "execution_count": 229,
   "metadata": {},
   "outputs": [],
   "source": [
    "from sklearn.ensemble import VotingClassifier\n",
    "clf_c = VotingClassifier(estimators=[('lr', clf_a), \n",
    "                                     ('rf', clf_b)], \n",
    "                                     voting ='hard')"
   ]
  },
  {
   "cell_type": "code",
   "execution_count": 1,
   "metadata": {},
   "outputs": [
    {
     "ename": "NameError",
     "evalue": "name 'np' is not defined",
     "output_type": "error",
     "traceback": [
      "\u001b[1;31m---------------------------------------------------------------------------\u001b[0m",
      "\u001b[1;31mNameError\u001b[0m                                 Traceback (most recent call last)",
      "\u001b[1;32m<ipython-input-1-2b7a9ea05505>\u001b[0m in \u001b[0;36m<module>\u001b[1;34m\u001b[0m\n\u001b[1;32m----> 1\u001b[1;33m \u001b[0mw1\u001b[0m \u001b[1;33m=\u001b[0m \u001b[0mnp\u001b[0m\u001b[1;33m.\u001b[0m\u001b[0mlinspace\u001b[0m\u001b[1;33m(\u001b[0m\u001b[1;36m0\u001b[0m\u001b[1;33m,\u001b[0m\u001b[1;36m1\u001b[0m\u001b[1;33m,\u001b[0m\u001b[1;36m11\u001b[0m\u001b[1;33m)\u001b[0m\u001b[1;33m\u001b[0m\u001b[1;33m\u001b[0m\u001b[0m\n\u001b[0m\u001b[0;32m      2\u001b[0m \u001b[0mw2\u001b[0m \u001b[1;33m=\u001b[0m \u001b[1;36m1\u001b[0m\u001b[1;33m-\u001b[0m\u001b[0mw1\u001b[0m\u001b[1;33m\u001b[0m\u001b[1;33m\u001b[0m\u001b[0m\n\u001b[0;32m      3\u001b[0m \u001b[0mw\u001b[0m \u001b[1;33m=\u001b[0m \u001b[0mnp\u001b[0m\u001b[1;33m.\u001b[0m\u001b[0mtranspose\u001b[0m\u001b[1;33m(\u001b[0m\u001b[0mnp\u001b[0m\u001b[1;33m.\u001b[0m\u001b[0marray\u001b[0m\u001b[1;33m(\u001b[0m\u001b[1;33m[\u001b[0m\u001b[0mw1\u001b[0m\u001b[1;33m,\u001b[0m\u001b[0mw2\u001b[0m\u001b[1;33m]\u001b[0m\u001b[1;33m)\u001b[0m\u001b[1;33m)\u001b[0m\u001b[1;33m\u001b[0m\u001b[1;33m\u001b[0m\u001b[0m\n\u001b[0;32m      4\u001b[0m \u001b[0mparams\u001b[0m \u001b[1;33m=\u001b[0m \u001b[1;33m{\u001b[0m\u001b[1;34m'weights'\u001b[0m\u001b[1;33m:\u001b[0m\u001b[1;33m[\u001b[0m\u001b[1;33m[\u001b[0m\u001b[1;36m1\u001b[0m\u001b[1;33m,\u001b[0m\u001b[1;36m2\u001b[0m\u001b[1;33m]\u001b[0m\u001b[1;33m,\u001b[0m\u001b[1;33m[\u001b[0m\u001b[1;36m2\u001b[0m\u001b[1;33m,\u001b[0m\u001b[1;36m1\u001b[0m\u001b[1;33m]\u001b[0m\u001b[1;33m,\u001b[0m\u001b[1;33m[\u001b[0m\u001b[1;36m3\u001b[0m\u001b[1;33m,\u001b[0m\u001b[1;36m2\u001b[0m\u001b[1;33m]\u001b[0m\u001b[1;33m]\u001b[0m\u001b[1;33m}\u001b[0m\u001b[1;33m\u001b[0m\u001b[1;33m\u001b[0m\u001b[0m\n\u001b[0;32m      5\u001b[0m \u001b[0mgrid\u001b[0m \u001b[1;33m=\u001b[0m \u001b[0mGridSearchCV\u001b[0m\u001b[1;33m(\u001b[0m\u001b[0mestimator\u001b[0m\u001b[1;33m=\u001b[0m\u001b[0mclf_c\u001b[0m\u001b[1;33m,\u001b[0m \u001b[0mparam_grid\u001b[0m\u001b[1;33m=\u001b[0m\u001b[0mparams\u001b[0m\u001b[1;33m,\u001b[0m \u001b[0mcv\u001b[0m\u001b[1;33m=\u001b[0m\u001b[1;36m5\u001b[0m\u001b[1;33m,\u001b[0m \u001b[0mn_jobs\u001b[0m\u001b[1;33m=\u001b[0m\u001b[1;33m-\u001b[0m\u001b[1;36m1\u001b[0m\u001b[1;33m)\u001b[0m\u001b[1;33m\u001b[0m\u001b[1;33m\u001b[0m\u001b[0m\n",
      "\u001b[1;31mNameError\u001b[0m: name 'np' is not defined"
     ]
    }
   ],
   "source": [
    "w1 = np.linspace(0,1,11)\n",
    "w2 = 1-w1\n",
    "w = np.transpose(np.array([w1,w2]))\n",
    "params = {\"weights\": w}\n",
    "grid = GridSearchCV(estimator=clf_c, param_grid=params, cv=5, n_jobs=-1)\n",
    "grid = grid.fit(X_train_smaller, y_train)\n",
    "print (grid.best_params_)"
   ]
  },
  {
   "cell_type": "code",
   "execution_count": 224,
   "metadata": {},
   "outputs": [],
   "source": [
    "clf_c = clf_c.fit(X_train_smaller, y_train)"
   ]
  },
  {
   "cell_type": "code",
   "execution_count": 225,
   "metadata": {},
   "outputs": [
    {
     "name": "stdout",
     "output_type": "stream",
     "text": [
      "Среднеквадратичная ошибка 0.479\n"
     ]
    }
   ],
   "source": [
    "pred = clf_c.predict(X_test_smaller)\n",
    "mse  = mean_squared_error(pred, y_test)\n",
    "print('Среднеквадратичная ошибка', mse)"
   ]
  },
  {
   "cell_type": "code",
   "execution_count": 227,
   "metadata": {
    "scrolled": true
   },
   "outputs": [
    {
     "name": "stdout",
     "output_type": "stream",
     "text": [
      "Оценки точности на 5 тестовых подмножествах:\n",
      " [0.56  0.576 0.56  0.551 0.574] \n",
      "\n"
     ]
    }
   ],
   "source": [
    "scores   = cross_val_score(clf_c, X_val_smaller, y_val, cv=5, n_jobs=1)\n",
    "print('Оценки точности на 5 тестовых подмножествах:\\n', scores, '\\n')"
   ]
  },
  {
   "cell_type": "markdown",
   "metadata": {},
   "source": [
    "What was the best pair of models to blend? Did blending help to increase quality of each classifier?\n",
    "\n",
    "**Your answer here**:\n",
    "\n",
    "Не особо "
   ]
  },
  {
   "cell_type": "markdown",
   "metadata": {},
   "source": [
    "**Очень надеюсь, что не будет больше таких объемных домашек. \n",
    "Физически не успеваю делать (не только я).\n",
    "Плюс начались коллоки и всякие проверочные работы. \n",
    "Если объем дз не уменьшится, то, скорее всего, покину курс.\n",
    "Спасибо за понимание))**"
   ]
  }
 ],
 "metadata": {
  "kernelspec": {
   "display_name": "Python 3",
   "language": "python",
   "name": "python3"
  },
  "language_info": {
   "codemirror_mode": {
    "name": "ipython",
    "version": 3
   },
   "file_extension": ".py",
   "mimetype": "text/x-python",
   "name": "python",
   "nbconvert_exporter": "python",
   "pygments_lexer": "ipython3",
   "version": "3.8.3"
  }
 },
 "nbformat": 4,
 "nbformat_minor": 4
}
