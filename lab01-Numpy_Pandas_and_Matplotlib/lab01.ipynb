{
 "cells": [
  {
   "cell_type": "markdown",
   "metadata": {},
   "source": [
    "# Lab #1. Numpy, Pandas and Matplotlib\n",
    "\n",
    "### Important: do not delete any blocks\n",
    "#### But you may add as many as you need.\n",
    "\n",
    "This aim of this lab is to get you aquainted to very important python modules (libraries):\n",
    "- numpy\n",
    "- pandas\n",
    "- matplotlib\n",
    "\n",
    "Make sure to install these modules before you start.\n",
    "\n",
    "#### About tasks\n",
    "\n",
    "This notebook consists of numerous tasks but please make it look like a whole story: a report with your own code, thoughts and conclusions. In some of these tasks you will have to implement some custom functions, in some of them you will be asked to present some plots and describe them. Please try to make your code as short as possible and your answers as clear as possible.\n",
    "\n",
    "\n",
    "\n",
    "#### Evaluation\n",
    "\n",
    "- Each task has its value, **15 points** in total. If you use some open-source code please make sure to include the url. \n",
    "- There are **Questions** in the tasks, don't skip them. If you skip a question, value of the task becomes 0. \n",
    "- When your answer includes some numbers, make sure to provide some code or calculations that prove your results.\n",
    "- Pay a lot attention to your plots:\n",
    "    - Are they comprehensible? Shapes, colours, sizes?\n",
    "    - Are they titled?\n",
    "    - Are axes labelled?\n",
    "    - Is legend included?\n",
    "\n",
    "#### How to submit\n",
    "- Name your file according to this convention: `2021_lab01_GroupNumber_Surname_Name.ipynb`, for example \n",
    "    - `2021_lab01_404_Sheipak_Sviat.ipynb`\n",
    "    - `2021_lab01_NoGroup_Sheipak_Sviat.ipynb`\n",
    "- Attach your .ipynb to an email with topic `2021_lab01_GroupNumber_Surname_Name.ipynb`\n",
    "- Send it to `cosmic.research.ml@yandex.ru`\n",
    "- Deadline is `2021-09-29 23:00:00 +03:00`\n",
    "\n",
    "#### The Data:\n",
    "- All the datasets you need are here: https://disk.yandex.ru/d/Y9kRkFcH8lOb9w"
   ]
  },
  {
   "cell_type": "markdown",
   "metadata": {},
   "source": [
    "## Part 1. Numpy and plots [2.5 points]\n",
    "\n",
    "`numpy` is a module that helps you to deal with vectors (matrices and tensors too) and it has a lot of cool features."
   ]
  },
  {
   "cell_type": "markdown",
   "metadata": {},
   "source": [
    "Firstly, let's import it:"
   ]
  },
  {
   "cell_type": "code",
   "execution_count": null,
   "metadata": {},
   "outputs": [],
   "source": [
    "import numpy as np"
   ]
  },
  {
   "cell_type": "markdown",
   "metadata": {},
   "source": [
    "Vectors in numpy are called **arrays**. Create an array from a list:"
   ]
  },
  {
   "cell_type": "code",
   "execution_count": null,
   "metadata": {},
   "outputs": [],
   "source": [
    "my_list = [1, 2, 3, 4, 5, 6]\n",
    "my_vector = np.array(my_list)\n",
    "print(my_list)\n",
    "print(my_vector)"
   ]
  },
  {
   "cell_type": "markdown",
   "metadata": {},
   "source": [
    "You can reshape them:"
   ]
  },
  {
   "cell_type": "code",
   "execution_count": null,
   "metadata": {},
   "outputs": [],
   "source": [
    "my_vector = my_vector.reshape((2, 3))\n",
    "print(my_vector.shape)\n",
    "print(my_vector)\n",
    "\n",
    "my_vector = my_vector.reshape((6, 1))\n",
    "print(my_vector.shape)\n",
    "print(my_vector)"
   ]
  },
  {
   "cell_type": "markdown",
   "metadata": {},
   "source": [
    "You don't even have to state all of dimensions explicitly, since they can be derived (use -1):"
   ]
  },
  {
   "cell_type": "code",
   "execution_count": null,
   "metadata": {},
   "outputs": [],
   "source": [
    "my_vector = my_vector.reshape((3, -1))\n",
    "print(my_vector.shape)\n",
    "print(my_vector)"
   ]
  },
  {
   "cell_type": "markdown",
   "metadata": {},
   "source": [
    "Slices!"
   ]
  },
  {
   "cell_type": "code",
   "execution_count": null,
   "metadata": {},
   "outputs": [],
   "source": [
    "print(my_vector[0, 1])\n",
    "print(my_vector[:, 1])\n",
    "print(my_vector[:2])\n",
    "print(my_vector[:2,::-1])"
   ]
  },
  {
   "cell_type": "markdown",
   "metadata": {},
   "source": [
    "Arithmetic operations:"
   ]
  },
  {
   "cell_type": "code",
   "execution_count": null,
   "metadata": {},
   "outputs": [],
   "source": [
    "vector_a = np.arange(10)\n",
    "print(vector_a)\n",
    "print(vector_a - 10)\n",
    "print(vector_a * 100)\n",
    "print(np.array([5, 4]) + np.array([1, 6]))\n",
    "print(np.array([5, 4]) * np.array([1, 6]))"
   ]
  },
  {
   "cell_type": "markdown",
   "metadata": {},
   "source": [
    "**Task 1. Basic arrays [0.5 point]** \n",
    "\n",
    "Create a 2-dimensional numpy array `x` of 100 by 2 shape filled with random numbers from $U[0, 1]$"
   ]
  },
  {
   "cell_type": "code",
   "execution_count": null,
   "metadata": {},
   "outputs": [],
   "source": [
    "x = # YOUR CODE HERE\n",
    "\n",
    "assert x.shape == (100, 2), \"Wrong shape\"\n",
    "assert x.min() >= 0 and x.max() <= 1, \"Wrong range\"\n",
    "assert np.abs(x.mean() - 0.5) < 8e-2, \"Wrong distribution or bad luck\"\n",
    "x.mean()"
   ]
  },
  {
   "cell_type": "markdown",
   "metadata": {},
   "source": [
    "Calculate averages: row-wise, column-wise and total. Use `np.mean` and `axis` parameter. Then `print` the `mean_total` rounded to 3 digits after comma (using `format` method)."
   ]
  },
  {
   "cell_type": "code",
   "execution_count": null,
   "metadata": {},
   "outputs": [],
   "source": [
    "mean_by_row = # YOUR CODE HERE\n",
    "mean_by_col = # YOUR CODE HERE\n",
    "mean_total = # YOUR CODE HERE\n",
    "\n",
    "assert mean_by_row.shape == (100, )\n",
    "assert mean_by_col.shape == (2, )\n",
    "assert mean_total.shape == ()\n",
    "\n",
    "print(\"The total mean is {# YOUR CODE HERE}\".format(# YOUR CODE HERE))"
   ]
  },
  {
   "cell_type": "markdown",
   "metadata": {},
   "source": [
    "**Task 2. Sort 2-dim array [0.5 point]** \n",
    "\n",
    "Create a 1-dimensional numpy array `y` of 100 random **integers** from $U\\{0, 1, 2, 3\\}$"
   ]
  },
  {
   "cell_type": "code",
   "execution_count": null,
   "metadata": {},
   "outputs": [],
   "source": [
    "y = # YOUR CODE HERE\n",
    "\n",
    "assert y.shape == (100,)"
   ]
  },
  {
   "cell_type": "markdown",
   "metadata": {},
   "source": [
    "Import class `Counter` from `collections` module."
   ]
  },
  {
   "cell_type": "code",
   "execution_count": null,
   "metadata": {},
   "outputs": [],
   "source": [
    "from collections import Counter"
   ]
  },
  {
   "cell_type": "code",
   "execution_count": null,
   "metadata": {},
   "outputs": [],
   "source": [
    "basic_counter = Counter(y)\n",
    "container_A = dict(basic_counter)\n",
    "container_B = list(basic_counter.items())\n",
    "container_C = np.array(container_B)"
   ]
  },
  {
   "cell_type": "code",
   "execution_count": null,
   "metadata": {},
   "outputs": [],
   "source": [
    "print(container_A, container_B, container_C)"
   ]
  },
  {
   "cell_type": "markdown",
   "metadata": {},
   "source": [
    "Here are three data structures.\n",
    "\n",
    "**Question:** What is the type of `container_A`? What is the type of `container_B`? What is the type of the elements of `container_C`?"
   ]
  },
  {
   "cell_type": "markdown",
   "metadata": {},
   "source": [
    "**Your answer:**"
   ]
  },
  {
   "cell_type": "markdown",
   "metadata": {},
   "source": [
    "Use `np.sort` to order elements of `container_C` acsending by their first coordinate (pay attention to `axis` parameter)."
   ]
  },
  {
   "cell_type": "code",
   "execution_count": null,
   "metadata": {},
   "outputs": [],
   "source": [
    "counter_values = # YOUR CODE HERE\n",
    "\n",
    "assert list(counter_values[:, 0]) == [0, 1, 2, 3], \"Error: Wrong order\"\n",
    "assert min([container_A[x[0]] == x[1] for x in counter_values]), \"Error: Count values shuffled\"\n",
    "print(\"Great!\")"
   ]
  },
  {
   "cell_type": "markdown",
   "metadata": {},
   "source": [
    "**Task 3. Basic barplot [0.5 points]** \n",
    "\n",
    "Plot a barplot representing how many times each value `0, 1, 2, 3` is encounterd in `y`. Do not forget to:\n",
    "- Add title to the plot\n",
    "- Label the axes\n",
    "- Specify x-ticks \n",
    "\n",
    "You may use `counter_values` you have obtained in a Task 2."
   ]
  },
  {
   "cell_type": "code",
   "execution_count": null,
   "metadata": {},
   "outputs": [],
   "source": [
    "import matplotlib.pyplot as plt"
   ]
  },
  {
   "cell_type": "code",
   "execution_count": null,
   "metadata": {},
   "outputs": [],
   "source": [
    "plt.title(\"Value counts in $y$\")\n",
    "plt.bar(# YOUR CODE HERE)\n",
    "plt.xticks(counter_values[:, 0])\n",
    "plt.xlabel(\"Value\")\n",
    "plt.ylabel(\"Count\")\n",
    "plt.grid(10)\n",
    "plt.show()"
   ]
  },
  {
   "cell_type": "markdown",
   "metadata": {},
   "source": [
    "**Task 4. Concat two numpy arrays [0.5 point]**\n",
    "\n",
    "You have:\n",
    "- `x`: 100 $\\times$ 2\n",
    "- `y`: 100\n",
    "\n",
    "Concatenate them horizontally to get `z`: 100 $\\times$ 3"
   ]
  },
  {
   "cell_type": "code",
   "execution_count": null,
   "metadata": {},
   "outputs": [],
   "source": [
    "z = # YOUR CODE HERE\n",
    "\n",
    "assert z.shape == (100, 3) and np.equal(z[:, :2], x).all() and np.equal(z[:, -1], y).all()"
   ]
  },
  {
   "cell_type": "markdown",
   "metadata": {},
   "source": [
    "**Task 5. Basic Scatter Plot [0.5 point]**\n",
    "\n",
    "You have:\n",
    "- `z`: 100 $\\times$ 3\n",
    "\n",
    "Each row of `z` consists of 3 numbers. Build a scatter plot where each row is represented by a dot: first and second number are coordinates and third number corresponds to dot colour. Don't forget to add a legend."
   ]
  },
  {
   "cell_type": "code",
   "execution_count": null,
   "metadata": {},
   "outputs": [],
   "source": [
    "plt.figure(figsize=(8, 6))\n",
    "plt.title(\"Basic Scatter Plot\")\n",
    "# YOUR CODE HERE\n",
    "\n",
    "plt.legend(loc=\"upper right\")\n",
    "plt.show()"
   ]
  },
  {
   "cell_type": "markdown",
   "metadata": {},
   "source": [
    "# Part 2. Moscow houses [4.5 points]\n",
    "\n",
    "In this part we start to work with datasets and `pandas` module.\n",
    "You will need to download `moscow_coords.csv` file. It provides a coordinate and an address for some houses in Moscow. The original source of the data: https://data.mos.ru/opendata/60562/data/table?versionNumber=3&releaseNumber=445"
   ]
  },
  {
   "cell_type": "code",
   "execution_count": null,
   "metadata": {},
   "outputs": [],
   "source": [
    "import pandas as pd"
   ]
  },
  {
   "cell_type": "code",
   "execution_count": null,
   "metadata": {},
   "outputs": [],
   "source": [
    "coords_db = pd.read_csv(\"data/moscow_coords.csv\")"
   ]
  },
  {
   "cell_type": "code",
   "execution_count": null,
   "metadata": {
    "scrolled": true
   },
   "outputs": [],
   "source": [
    "coords_db.head(10)"
   ]
  },
  {
   "cell_type": "code",
   "execution_count": null,
   "metadata": {
    "scrolled": true
   },
   "outputs": [],
   "source": [
    "print(type(coords_db))\n",
    "print(coords_db.shape)\n",
    "print(coords_db.columns)\n",
    "print(type(coords_db[\"ADDRESS\"]))"
   ]
  },
  {
   "cell_type": "markdown",
   "metadata": {},
   "source": [
    "**Task 1. Address analysis [0.5 point]**\n",
    "\n",
    "As we can see, the dataset has 3 columns: `ADDRESS`, `coor_x` and `coor_y`.\n",
    "Let's focus on `ADDRESS` - the datatype of this column is `str`.\n",
    "\n",
    "Your task is to find and describe addresses that inlcude word `город`* at least two times.\n",
    "\n",
    "**город* - *city* in russian"
   ]
  },
  {
   "cell_type": "markdown",
   "metadata": {},
   "source": [
    "Let's do it step by step:\n",
    "1. Implement a function `tokenize_address`, that takes a string\n",
    "\n",
    "* casts string to lowercase;\n",
    "    \n",
    "* removes all `,` and `.` symbols;\n",
    "    \n",
    "* splits string into a `list` of strings; separation symbol is a whitespace ` `.\n",
    "    \n",
    "2. Implement a function `count_a_token`, that takes a list of strings and counts number of entries of a particular token."
   ]
  },
  {
   "cell_type": "code",
   "execution_count": null,
   "metadata": {},
   "outputs": [],
   "source": [
    "def tokenize_address(input_string):\n",
    "    \"\"\"\n",
    "    input:\n",
    "    - input_string: str\n",
    "    output:\n",
    "    - list<str> - string split into tokens\n",
    "    \"\"\"\n",
    "    # YOUR CODE HERE\n",
    "    \n",
    "    return # YOUR CODE HERE\n",
    "\n",
    "assert tokenize_address(\"A, b. C, and d?\") == [\"a\", \"b\", \"c\", \"and\", \"d?\"], \"Something is wrong\""
   ]
  },
  {
   "cell_type": "code",
   "execution_count": null,
   "metadata": {},
   "outputs": [],
   "source": [
    "def count_a_token(token_list, lookup_token):\n",
    "    \"\"\"\n",
    "    input:\n",
    "    - token_list: list<str>\n",
    "    - lookup_token: str\n",
    "    output:\n",
    "    - int - how many times lookup_token is encountered in token_list\n",
    "    \"\"\"\n",
    "    # YOUR CODE HERE"
   ]
  },
  {
   "cell_type": "code",
   "execution_count": null,
   "metadata": {},
   "outputs": [],
   "source": [
    "test_address = \"город Москва, улица Космонавта Волкова, дом 10.\"\n",
    "tokens = tokenize_address(test_address)\n",
    "print(tokens)\n",
    "print(count_a_token(tokens, \"город\"))\n",
    "\n",
    "assert tokens == [\"город\", \"москва\", \"улица\", \"космонавта\", \"волкова\", \"дом\", \"10\"]\n",
    "assert count_a_token(tokens, \"город\") == 1\n",
    "print(\"Seems fine!\")"
   ]
  },
  {
   "cell_type": "markdown",
   "metadata": {},
   "source": [
    "Now it is time add new column `city_token_cnt` to the dataset. Values in this column should be a result of applying two functions above to a `coords_db[\"ADDRESS\"]`. Note that `coords_db[\"ADDRESS\"]` is a `pandas.Series` object and it has method `apply`."
   ]
  },
  {
   "cell_type": "code",
   "execution_count": null,
   "metadata": {},
   "outputs": [],
   "source": [
    "coords_db.loc[:, \"city_token_cnt\"] = coords_db[\"ADDRESS\"].apply(lambda x: count_a_token(tokenize_address(x), \"город\"))"
   ]
  },
  {
   "cell_type": "code",
   "execution_count": null,
   "metadata": {},
   "outputs": [],
   "source": [
    "coords_db.head()"
   ]
  },
  {
   "cell_type": "markdown",
   "metadata": {},
   "source": [
    "And the final step: let's do a `groupby` by column `city_token_cnt` to find out how many addresses have token `город` two times or more."
   ]
  },
  {
   "cell_type": "code",
   "execution_count": null,
   "metadata": {},
   "outputs": [],
   "source": [
    "stats = coords_db.groupby(# YOUR CODE HERE"
   ]
  },
  {
   "cell_type": "code",
   "execution_count": null,
   "metadata": {},
   "outputs": [],
   "source": [
    "stats"
   ]
  },
  {
   "cell_type": "markdown",
   "metadata": {},
   "source": [
    "**Question**: how many addresses have token `город` two times or more?"
   ]
  },
  {
   "cell_type": "markdown",
   "metadata": {},
   "source": [
    "**Your answer**: "
   ]
  },
  {
   "cell_type": "markdown",
   "metadata": {},
   "source": [
    "**Task 2. Count 2-grams [1 point]**\n",
    "\n",
    "For a sequence of tokens `[\"a_1\", \"a_2\", ..., \"a_N\"]` **n-gram** is a subsequence of **n** consecutive tokens.\n",
    "\n",
    "For example: given a sequence of tokens `[\"a\", \"b\", \"c\", \"d\"]` it has:\n",
    "- Four unigrams: `[\"a\"], [\"b\"], [\"c\"], [\"d\"]`\n",
    "- Three 2-grams: `[\"a\", \"b\"], [\"b\", \"c\"], [\"c\", \"d\"]`\n",
    "- Two 3-grams: `[\"a\", \"b\", \"c\"], [\"b\", \"c\", \"d\"]`\n",
    "- One 4-gram: `[\"a\", \"b\", \"c\", \"d\"]`\n",
    "\n",
    "Your task is two find all 2-grams that start with `город` token and count their occurences in all addresses."
   ]
  },
  {
   "cell_type": "markdown",
   "metadata": {},
   "source": [
    "Firstly, impement a function `get_n_grams`:"
   ]
  },
  {
   "cell_type": "code",
   "execution_count": null,
   "metadata": {},
   "outputs": [],
   "source": [
    "def get_n_grams(input_tokens, n):\n",
    "    \"\"\"\n",
    "    input:\n",
    "    - input_tokens: list<str>\n",
    "    - n: int, size of n-grams\n",
    "    output:\n",
    "    - list<list<str>> - list of n-grams\n",
    "    \"\"\"\n",
    "    # YOUR CODE HERE"
   ]
  },
  {
   "cell_type": "code",
   "execution_count": null,
   "metadata": {},
   "outputs": [],
   "source": [
    "assert get_n_grams([\"a\", \"b\", \"c\", \"d\"], 1) ==  [['a'], ['b'], ['c'], ['d']]\n",
    "assert get_n_grams([\"a\", \"b\", \"c\", \"d\"], 2) ==  [['a', 'b'], ['b', 'c'], ['c', 'd']]\n",
    "assert get_n_grams([\"a\", \"b\", \"c\", \"d\"], 3) ==  [['a', 'b', 'c'], ['b', 'c', 'd']]\n",
    "assert get_n_grams([\"a\", \"b\", \"c\", \"d\"], 4) ==  [['a', 'b', 'c', 'd']]\n",
    "\n",
    "print(\"OK, seems fine!\")"
   ]
  },
  {
   "cell_type": "markdown",
   "metadata": {},
   "source": [
    "Secondly, define a function that will filter list of n-grams by the first element of an n-gram:"
   ]
  },
  {
   "cell_type": "code",
   "execution_count": null,
   "metadata": {},
   "outputs": [],
   "source": [
    "def filter_n_grams(n_grams, lookup_token):\n",
    "    \"\"\"\n",
    "    input:\n",
    "    - n_grams: list<list<str>>\n",
    "    - lookup_token: str\n",
    "    output:\n",
    "    - list<list<str>> - sublist of n-grams first token of which is equal to lookup_token\n",
    "    \"\"\"\n",
    "    # YOUR CODE HERE"
   ]
  },
  {
   "cell_type": "code",
   "execution_count": null,
   "metadata": {},
   "outputs": [],
   "source": [
    "assert filter_n_grams([\n",
    "    [\"a\", \"b\"], \n",
    "    [\"a\", \"c\"],\n",
    "    [\"b\", \"d\"],\n",
    "    [\"d\", \"a\"]\n",
    "    ], \n",
    "    \"a\") == [[\"a\", \"b\"], [\"a\", \"c\"]] \n",
    "\n",
    "print(\"Seems fine!\")"
   ]
  },
  {
   "cell_type": "markdown",
   "metadata": {},
   "source": [
    "Back to our dataset. Leave rows with `city_token_cnt >= 2`"
   ]
  },
  {
   "cell_type": "code",
   "execution_count": null,
   "metadata": {},
   "outputs": [],
   "source": [
    "sub_db = coords_db[# YOUR CODE HERE\n",
    "print(sub_db.shape)\n",
    "sub_db.head(5)"
   ]
  },
  {
   "cell_type": "markdown",
   "metadata": {},
   "source": [
    "Let's build a dict that contains counts of 2-grams: \n",
    "```\n",
    "{\n",
    "    \"город x\": cnt_x,\n",
    "    \"город y\": cnt_y,\n",
    "     ...\n",
    "    \"город N\": cnt_N\n",
    "      \n",
    "}\n",
    "```\n",
    "Note that key is a string `\"город x\"`, not a list `[\"город\", \"x\"]` - list cannot be a key in a dict."
   ]
  },
  {
   "cell_type": "code",
   "execution_count": null,
   "metadata": {},
   "outputs": [],
   "source": [
    "counter_dict = {}\n",
    "for address in sub_db[\"ADDRESS\"]:\n",
    "    tokens = # YOUR CODE HERE\n",
    "    n_grams = # YOUR CODE HERE\n",
    "    filtered_n_grams = # YOUR CODE HERE\n",
    "    for x in filtered_n_grams:\n",
    "        key = # YOUR CODE HERE\n",
    "        counter_dict[key] = 1 if key not in counter_dict else counter_dict[key] + 1"
   ]
  },
  {
   "cell_type": "code",
   "execution_count": null,
   "metadata": {
    "scrolled": true
   },
   "outputs": [],
   "source": [
    "counter_dict"
   ]
  },
  {
   "cell_type": "markdown",
   "metadata": {},
   "source": [
    "**Task 3. Garden Ring houses scatterplot [1 points]**\n",
    "\n",
    "We need to find houses that are located near the Garden Ring. There can be a lot of definitions of *near* - but in our case *near* means inside a polygon. Inner and outer polygon points can be found in files: `inner_poly.csv` and `outer_poly.csv` respectively."
   ]
  },
  {
   "cell_type": "code",
   "execution_count": null,
   "metadata": {},
   "outputs": [],
   "source": [
    "inner_poly = pd.read_csv(\"data/inner_poly.csv\", header=None).values\n",
    "outer_poly = pd.read_csv(\"data/outer_poly.csv\", header=None).values\n",
    "house_points = coords_db[[\"coor_x\", \"coor_y\"]].values"
   ]
  },
  {
   "cell_type": "markdown",
   "metadata": {},
   "source": [
    "Let's scatter plot the points:"
   ]
  },
  {
   "cell_type": "code",
   "execution_count": null,
   "metadata": {},
   "outputs": [],
   "source": [
    "plt.figure(figsize=(8, 8))\n",
    "plt.title(\"Moscow Houses\")\n",
    "plt.scatter(house_points[:, 0], house_points[:, 1], linewidths=0.001, c=\"grey\")\n",
    "plt.scatter(inner_poly[:, 0], inner_poly[:, 1], linewidths=0.005, c=\"b\")\n",
    "plt.scatter(outer_poly[:, 0], outer_poly[:, 1], linewidths=0.005, c=\"r\")\n",
    "plt.show()"
   ]
  },
  {
   "cell_type": "markdown",
   "metadata": {},
   "source": [
    "Ooooops seems a bit wrong. \n",
    "\n",
    "**Question**: why does the plot look so strange? How to fix it?"
   ]
  },
  {
   "cell_type": "markdown",
   "metadata": {},
   "source": [
    "**Your answer:**"
   ]
  },
  {
   "cell_type": "markdown",
   "metadata": {},
   "source": [
    "Now fix the `house_points` array, remove a set of points in the bottom left corner:"
   ]
  },
  {
   "cell_type": "code",
   "execution_count": null,
   "metadata": {},
   "outputs": [],
   "source": [
    "house_points = # YOUR CODE HERE"
   ]
  },
  {
   "cell_type": "markdown",
   "metadata": {},
   "source": [
    "And scatter it again:"
   ]
  },
  {
   "cell_type": "code",
   "execution_count": null,
   "metadata": {},
   "outputs": [],
   "source": [
    "plt.figure(figsize=(8, 8))\n",
    "plt.title(\"Moscow Houses\")\n",
    "plt.scatter(house_points[:, 0], house_points[:, 1], linewidths=0.001, c=\"grey\")\n",
    "plt.scatter(inner_poly[:, 0], inner_poly[:, 1], linewidths=0.005, c=\"b\")\n",
    "plt.scatter(outer_poly[:, 0], outer_poly[:, 1], linewidths=0.005, c=\"r\")\n",
    "plt.show()"
   ]
  },
  {
   "cell_type": "markdown",
   "metadata": {},
   "source": [
    "Let's do a little zoom-in: filter `house_points` and leave points in some **small square** near the garden ring. The choice of the size of the square is up to you, but the outer poly should be inside this square.\n",
    "\n",
    "I have already defined a small square, but you can change its sizes."
   ]
  },
  {
   "cell_type": "code",
   "execution_count": null,
   "metadata": {},
   "outputs": [],
   "source": [
    "lower_x = 37.56\n",
    "upper_x = 37.68\n",
    "lower_y = 55.70\n",
    "upper_y = 55.80\n",
    "\n",
    "def filter_points_by_square(input_array, lower_x, upper_x, lower_y, upper_y):\n",
    "    # YOUR CODE HERE"
   ]
  },
  {
   "cell_type": "code",
   "execution_count": null,
   "metadata": {},
   "outputs": [],
   "source": [
    "small_square_points = filter_points_by_square(house_points, lower_x, upper_x, lower_y, upper_y)"
   ]
  },
  {
   "cell_type": "code",
   "execution_count": null,
   "metadata": {},
   "outputs": [],
   "source": [
    "plt.figure(figsize=(8, 8))\n",
    "plt.title(\"Houses in city center\")\n",
    "plt.scatter(small_square_points[:, 0], small_square_points[:, 1], linewidths=0.001, c=\"grey\")\n",
    "plt.scatter(inner_poly[:, 0], inner_poly[:, 1], linewidths=0.005, c=\"b\")\n",
    "plt.scatter(outer_poly[:, 0], outer_poly[:, 1], linewidths=0.005, c=\"r\")\n",
    "plt.show()"
   ]
  },
  {
   "cell_type": "markdown",
   "metadata": {},
   "source": [
    "**Task 4. Houses in a polygon [2 points]**\n",
    "\n",
    "Implement a function, that by two coordinates of a point and list of coordinates of the polygon tells whether this point is inside a polygon or not.\n",
    "\n",
    "You may define as many others functions as you want.\n",
    "\n",
    "*Hint: the polygons may be regarded as convex.*"
   ]
  },
  {
   "cell_type": "markdown",
   "metadata": {},
   "source": [
    "**Question:** what algorithm to decide whether the point is inside will you implement? Why is it supposed to work?"
   ]
  },
  {
   "cell_type": "markdown",
   "metadata": {},
   "source": [
    "**Your answer:**"
   ]
  },
  {
   "cell_type": "code",
   "execution_count": null,
   "metadata": {},
   "outputs": [],
   "source": [
    "# YOUR CODE HERE"
   ]
  },
  {
   "cell_type": "code",
   "execution_count": null,
   "metadata": {},
   "outputs": [],
   "source": [
    "def point_is_inside(point, polygon_points):\n",
    "    \"\"\"\n",
    "    input:\n",
    "    - point np.array of (1, 2) shape\n",
    "    - polygon_points np.array of (N, 2) shape\n",
    "    output:\n",
    "    - bool True if point is inside, false if point is outside\n",
    "    \"\"\"\n",
    "    # YOUR CODE HERE"
   ]
  },
  {
   "cell_type": "markdown",
   "metadata": {},
   "source": [
    "And the final part! \n",
    "\n",
    "Scatter plot `small_square_points` again, but with 3 different colours:\n",
    "- colour 1: points inside inner poly\n",
    "- colour 2: points outside outer poly\n",
    "- colour 3: points between inner and outer polys"
   ]
  },
  {
   "cell_type": "code",
   "execution_count": null,
   "metadata": {},
   "outputs": [],
   "source": [
    "# YOUR CODE HERE"
   ]
  },
  {
   "cell_type": "markdown",
   "metadata": {},
   "source": [
    "**Question:** How many points are there between inner and outer polys?"
   ]
  },
  {
   "cell_type": "markdown",
   "metadata": {},
   "source": [
    "**Your answer:**"
   ]
  },
  {
   "cell_type": "markdown",
   "metadata": {},
   "source": [
    "# Part 3. Titanic Dataset - Stats and Plots [8 points]\n",
    "\n",
    "\n",
    "In this part we are going to analyze the \"Titanic dataset\".\n",
    "The main goal of this task is to describe the data.\n",
    "\n",
    "Here are some tips:\n",
    "- use plots\n",
    "- notice pecualrities in the data\n",
    "- present verbal explanations, don't be too shy\n",
    "\n",
    "**Important** Please pay attention to your plots: titles, axis-labels and legends are necessary.\n",
    "\n",
    "These  tasks involve `numpy`, `pandas` and `matplotlib` - very common python modules. In one task you may use `scipy`."
   ]
  },
  {
   "cell_type": "markdown",
   "metadata": {},
   "source": [
    "#### Input data\n",
    "This task uses 2 files:\n",
    "- `passengers_record.csv` contains some general information on passengers (name, class, age, etc.)\n",
    "- `survival_info.csv` contains binary labels whether passenger survived or not"
   ]
  },
  {
   "cell_type": "code",
   "execution_count": null,
   "metadata": {},
   "outputs": [],
   "source": [
    "import pandas as pd\n",
    "import matplotlib.pyplot as plt\n",
    "%matplotlib inline"
   ]
  },
  {
   "cell_type": "markdown",
   "metadata": {},
   "source": [
    "**Task 1. [1 point]**\n",
    "\n",
    "Read these files and join them into single dataset (use `passenger_id` as join key). Then provide some description of the dataset: \n",
    "- What are age/gender/class distributions and their averages? How many people belong to each group?\n",
    "- Find the oldest/youngest passangers in every class\n",
    "- Compare survival rates between classes/age groups/genders (configuration of age groups is up to you)"
   ]
  },
  {
   "cell_type": "code",
   "execution_count": null,
   "metadata": {},
   "outputs": [],
   "source": [
    "passengers_record = # YOUR CODE HERE\n",
    "survival_info = # YOUR CODE HERE\n",
    "\n",
    "assert passengers_record.shape == (891, 11) and survival_info.shape == (891, 2), \"Wrong db shapes\""
   ]
  },
  {
   "cell_type": "code",
   "execution_count": null,
   "metadata": {},
   "outputs": [],
   "source": [
    "db = # YOUR CODE HERE"
   ]
  },
  {
   "cell_type": "markdown",
   "metadata": {},
   "source": [
    "**Task 2. [2 points]**\n",
    "\n",
    "Compare average age per class: can we consider these values to be equal? Use visualisation to prove your point. \n",
    "\n",
    "Can we answer this question using the T-test? Why? Here you may use `scipy.stats`."
   ]
  },
  {
   "cell_type": "markdown",
   "metadata": {},
   "source": [
    "**Task 3. [2 points]**\n",
    "\n",
    "Use `plt.subplots` to create side-by-side histograms of distributions:\n",
    "- columns: 3 classes\n",
    "- rows: age, fare, sex, survival rate\n",
    "\n",
    "The output is 4 by 3 table of plots."
   ]
  },
  {
   "cell_type": "markdown",
   "metadata": {},
   "source": [
    "**Task 4. [1 point]**\n",
    "\n",
    "Find 5 most common **surnames** in passenger list. Try to use `pandas.Series.apply` and lambda-function to extract surnames."
   ]
  },
  {
   "cell_type": "markdown",
   "metadata": {},
   "source": [
    "**Task 5. [2 points]**\n",
    "\n",
    "Probably you already have noticed that there are missing values in the dataset. We will try to fix that.\n",
    "1. Omit all the rows, that contain missing values. Is the result plausible? How does this method effect amount of data and values from Task 1 (age histograms, survival rates, etc.?)\n",
    "2. Suggest some better options to handle missing values in the data and check if it distorts the statistics."
   ]
  },
  {
   "cell_type": "markdown",
   "metadata": {},
   "source": [
    "### Great! Don't forget to submit before the deadline :)"
   ]
  }
 ],
 "metadata": {
  "kernelspec": {
   "display_name": "Python 3",
   "language": "python",
   "name": "python3"
  },
  "language_info": {
   "codemirror_mode": {
    "name": "ipython",
    "version": 3
   },
   "file_extension": ".py",
   "mimetype": "text/x-python",
   "name": "python",
   "nbconvert_exporter": "python",
   "pygments_lexer": "ipython3",
   "version": "3.8.3"
  }
 },
 "nbformat": 4,
 "nbformat_minor": 4
}
