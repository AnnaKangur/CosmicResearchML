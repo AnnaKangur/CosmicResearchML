{
 "cells": [
  {
   "cell_type": "code",
   "execution_count": 1,
   "metadata": {
    "ExecuteTime": {
     "end_time": "2021-11-13T08:11:46.984504Z",
     "start_time": "2021-11-13T08:11:44.445409Z"
    }
   },
   "outputs": [],
   "source": [
    "import numpy as np\n",
    "import pandas as pd"
   ]
  },
  {
   "cell_type": "code",
   "execution_count": 2,
   "metadata": {
    "ExecuteTime": {
     "end_time": "2021-11-13T08:11:47.908860Z",
     "start_time": "2021-11-13T08:11:46.996864Z"
    }
   },
   "outputs": [],
   "source": [
    "df_train = pd.read_csv(\"train.csv\")\n",
    "df_test = pd.read_csv(\"test.csv\")"
   ]
  },
  {
   "cell_type": "code",
   "execution_count": 3,
   "metadata": {},
   "outputs": [
    {
     "data": {
      "text/plain": [
       "Index(['address', 'sold_price', 'summary', 'type', 'year_built', 'heating',\n",
       "       'cooling', 'parking', 'bedrooms', 'bathrooms', 'full_bathrooms',\n",
       "       'total_interior_livable_area', 'total_spaces', 'garage_spaces',\n",
       "       'region', 'elementary_school', 'elementary_school_score',\n",
       "       'elementary_school_distance', 'middle_school', 'middle_school_score',\n",
       "       'middle_school_distance', 'high_school', 'high_school_score',\n",
       "       'high_school_distance', 'flooring', 'heating_features',\n",
       "       'cooling_features', 'appliances_included', 'laundry_features',\n",
       "       'parking_features', 'tax_assessed_value', 'annual_tax_amount',\n",
       "       'listed_on', 'listed_price', 'last_sold_on', 'last_sold_price', 'city',\n",
       "       'zip', 'state', 'id'],\n",
       "      dtype='object')"
      ]
     },
     "execution_count": 3,
     "metadata": {},
     "output_type": "execute_result"
    }
   ],
   "source": [
    "df_train.columns"
   ]
  },
  {
   "cell_type": "code",
   "execution_count": 4,
   "metadata": {},
   "outputs": [],
   "source": [
    "numeric_cols = [\n",
    "    'bathrooms', 'full_bathrooms', 'total_interior_livable_area', 'total_spaces', 'garage_spaces', \n",
    "    'elementary_school_score', 'elementary_school_distance', 'middle_school_score', 'middle_school_distance', \n",
    "    'high_school_score', 'high_school_distance', 'tax_assessed_value', 'listed_price', \n",
    "    'last_sold_price', 'year_built', 'annual_tax_amount'\n",
    "]\n",
    "\n",
    "target_cols = ['sold_price']\n",
    "id_cols = ['id']"
   ]
  },
  {
   "cell_type": "markdown",
   "metadata": {},
   "source": [
    "Start with numeric columns only:"
   ]
  },
  {
   "cell_type": "code",
   "execution_count": 5,
   "metadata": {},
   "outputs": [],
   "source": [
    "train_num_df = df_train[numeric_cols].fillna(df_train[numeric_cols].mean(axis=0))\n",
    "test_num_df = df_test[numeric_cols].fillna(df_test[numeric_cols].mean(axis=0))"
   ]
  },
  {
   "cell_type": "code",
   "execution_count": 6,
   "metadata": {},
   "outputs": [],
   "source": [
    "X_train, Y_train = train_num_df.values, df_train[target_cols].values\n",
    "X_test = test_num_df.values"
   ]
  },
  {
   "cell_type": "markdown",
   "metadata": {},
   "source": [
    "Scale to succeed:"
   ]
  },
  {
   "cell_type": "code",
   "execution_count": 7,
   "metadata": {},
   "outputs": [],
   "source": [
    "from sklearn.preprocessing import StandardScaler"
   ]
  },
  {
   "cell_type": "code",
   "execution_count": 8,
   "metadata": {},
   "outputs": [],
   "source": [
    "sc = StandardScaler()\n",
    "X_train = sc.fit_transform(X_train)\n",
    "X_test = sc.fit_transform(X_test)"
   ]
  },
  {
   "cell_type": "markdown",
   "metadata": {},
   "source": [
    "One-hot encode cities:"
   ]
  },
  {
   "cell_type": "code",
   "execution_count": 9,
   "metadata": {},
   "outputs": [],
   "source": [
    "cities_train = df_train[[\"city\"]].astype(str)\n",
    "cities_test = df_test[[\"city\"]].astype(str)\n",
    "all_cities = pd.concat([cities_train, cities_test])"
   ]
  },
  {
   "cell_type": "code",
   "execution_count": 10,
   "metadata": {},
   "outputs": [],
   "source": [
    "ohe_cities = pd.get_dummies(all_cities[[\"city\"]])\n",
    "train_ohe_cities = ohe_cities[:len(cities_train)]\n",
    "test_ohe_cities = ohe_cities[len(cities_train):]"
   ]
  },
  {
   "cell_type": "code",
   "execution_count": 11,
   "metadata": {},
   "outputs": [],
   "source": [
    "from sklearn.linear_model import Lasso\n",
    "from sklearn.metrics import mean_squared_error"
   ]
  },
  {
   "cell_type": "code",
   "execution_count": 12,
   "metadata": {},
   "outputs": [],
   "source": [
    "X_train_city = np.hstack([X_train, train_ohe_cities.values])\n",
    "X_test_city = np.hstack([X_test, test_ohe_cities.values])"
   ]
  },
  {
   "cell_type": "markdown",
   "metadata": {},
   "source": [
    "Let's pick a linear model:"
   ]
  },
  {
   "cell_type": "code",
   "execution_count": 13,
   "metadata": {},
   "outputs": [],
   "source": [
    "from sklearn.linear_model import Ridge, Lasso, ElasticNet\n",
    "from sklearn.model_selection import cross_val_score\n",
    "from sklearn.metrics import mean_squared_error"
   ]
  },
  {
   "cell_type": "code",
   "execution_count": 14,
   "metadata": {},
   "outputs": [
    {
     "name": "stdout",
     "output_type": "stream",
     "text": [
      "0.25262041470910473\n"
     ]
    }
   ],
   "source": [
    "lr_model = Lasso(alpha=1e-5, max_iter=1e4)\n",
    "print(-np.mean(cross_val_score(lr_model, X_train_city, Y_train, cv=3, scoring='neg_root_mean_squared_error', n_jobs=-1)))"
   ]
  },
  {
   "cell_type": "code",
   "execution_count": 15,
   "metadata": {},
   "outputs": [
    {
     "data": {
      "text/plain": [
       "0.2390567183136403"
      ]
     },
     "execution_count": 15,
     "metadata": {},
     "output_type": "execute_result"
    }
   ],
   "source": [
    "lr_model.fit(X_train_city, Y_train)\n",
    "\n",
    "Y_train_pred = lr_model.predict(X_train_city)\n",
    "np.sqrt(mean_squared_error(Y_train, Y_train_pred))"
   ]
  },
  {
   "cell_type": "code",
   "execution_count": 16,
   "metadata": {},
   "outputs": [],
   "source": [
    "Y_pred = lr_model.predict(X_test_city)"
   ]
  },
  {
   "cell_type": "code",
   "execution_count": 18,
   "metadata": {},
   "outputs": [],
   "source": [
    "df_submit = df_test[[\"id\"]].copy()\n",
    "df_submit.loc[:, \"sold_price\"] = Y_pred\n",
    "df_submit.to_csv(\"sample_submission.csv\", index=False)"
   ]
  }
 ],
 "metadata": {
  "kernelspec": {
   "display_name": "Python 3",
   "language": "python",
   "name": "python3"
  },
  "language_info": {
   "codemirror_mode": {
    "name": "ipython",
    "version": 3
   },
   "file_extension": ".py",
   "mimetype": "text/x-python",
   "name": "python",
   "nbconvert_exporter": "python",
   "pygments_lexer": "ipython3",
   "version": "3.9.6"
  }
 },
 "nbformat": 4,
 "nbformat_minor": 4
}
